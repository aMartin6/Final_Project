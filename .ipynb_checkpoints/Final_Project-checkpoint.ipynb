{
 "cells": [
  {
   "cell_type": "markdown",
   "metadata": {},
   "source": [
    "# Earthquakes and Self-Organized Criticality"
   ]
  },
  {
   "cell_type": "markdown",
   "metadata": {},
   "source": [
    "* Self organized criticality is the phenomena that places the earth's temperature and density in the region where earthquakes happen. \n",
    "* In this model, friction force decreses as the velocity of the block relative to the bottom plate increses. \n",
    "* Force equations:\n",
    "    * Force on block from neigboring blocks: $F_b = -k_c(x_i - x_{i+1}) - k_c(x_i - x_{i-1})$\n",
    "    * Force of a leaf spring on block: $F_l = -k_p(x_i - v_0 t)$\n",
    "    * Friction force due to bottom plate: $F_f = -\\frac{F_0 sin(v_i)}{1 + |v_i / v_f|}$\n",
    "* Overall equation of motion: $m_i \\frac{d^2 x_i}{dt^2} = k_c(x_{i+1} + x_{i-1} - 2x_i) + k_p(v_0 t - x_i) + F_f$\n",
    "    * If we break this up, we have: $\\frac{dx_i}{dt} = v_i$ and $m_i \\frac{d v_i}{dt} = k_c(x_{i+1} + x_{i-1} - 2x_i) + k_p(v_0 t - x_i) + F_f$"
   ]
  },
  {
   "cell_type": "code",
   "execution_count": 1,
   "metadata": {
    "collapsed": true
   },
   "outputs": [],
   "source": [
    "import pylab as plt\n",
    "import numpy as np\n",
    "import random\n",
    "%matplotlib inline"
   ]
  },
  {
   "cell_type": "code",
   "execution_count": 2,
   "metadata": {
    "collapsed": true
   },
   "outputs": [],
   "source": [
    "def friction (vi, vf, F0):\n",
    "    \"\"\"\n",
    "    Returs the friction of the bottom plate against blocks moving at a specific velocity\n",
    "    \n",
    "    Arguements: vi - initial velovity of the block\n",
    "                vf - final velocity of the block\n",
    "                F0 - the static friction force\n",
    "    \n",
    "    Returned: The force due to friction\n",
    "    \"\"\"\n",
    "    \n",
    "    force = -(F0 * np.sin(vi)) / (1 + abs(vi/vf))\n",
    "    return force"
   ]
  },
  {
   "cell_type": "code",
   "execution_count": 63,
   "metadata": {
    "collapsed": true
   },
   "outputs": [],
   "source": [
    "def blockMotion (t, r0, i, kp, kc, mass, F0, v0, vf, blockNum):\n",
    "    \"\"\"\n",
    "    Returns the differential equation that models the motion of the blocks\n",
    "    \n",
    "    Arguements: kp - spring constant of leaf springs\n",
    "                kc - spring constant of springs between blocks\n",
    "                mass - mass of individual block\n",
    "                F0 - the static friction force\n",
    "                v0 - initial velocoty of top plate\n",
    "                vi - the previous velocity of the block\n",
    "                vf - the current velocity of the block\n",
    "                x - the array containting x positions\n",
    "                i - the index of the current block\n",
    "                t - time\n",
    "                blockNum - the number of blocks\n",
    "                \n",
    "    Returned: The differential equation modeling the motion of the individual blocks\n",
    "    \n",
    "    Examples:\n",
    "    \n",
    "    >>> blockMotion (0, (0,0), 2, 0, 0, 1, 2, 0, 1, 20)\n",
    "    array([ 0.,  0.])\n",
    "    \n",
    "    >>> blockMotion (200, (1,0), 2, 40, 250, 1, 50, 0.01, 1, 20)\n",
    "    array([ 0.,  0.])\n",
    "    \n",
    "    >>> blockMotion (200, (1,1), 2, 40, 250, 1, 50, 0.01, 1, 20)\n",
    "    array([ 0.,  0.])\n",
    "    \"\"\"\n",
    "    xi = r0[0]\n",
    "    vi = r0[1]\n",
    "    if i == 1:\n",
    "        springForces = kc*((xi + 1) - xi) + kp * (v0 * t - xi)\n",
    "    elif i == blockNum:\n",
    "        springForces = kc*((xi - 1) - xi) + kp * (v0 * t - xi)\n",
    "    else:\n",
    "        springForces = kc*((xi + 1) + (xi - 1) - 2 * xi) + kp * (v0 * t - xi)\n",
    "    \n",
    "    \n",
    "    \n",
    "    if springForces < F0:\n",
    "        fv = 0\n",
    "        fx = 0\n",
    "        \n",
    "    else: \n",
    "        fx = vi\n",
    "        \n",
    "        if i == 0:\n",
    "            fv = (kc*((xi + 1) - xi) + kp * (v0 * t - xi) + friction (vi, vf, F0)) / mass\n",
    "        elif i == blockNum:\n",
    "            fv = (kc*((xi - 1)  - xi) + kp * (v0 * t - xi) + friction (vi, vf, F0)) / mass\n",
    "        else:\n",
    "            fv = (kc*((xi + 1) + (xi - 1) - 2 * xi) + kp * (v0 * t - xi) + friction (vi, vf, F0)) / mass\n",
    "        \n",
    "    return np.array([fx, fv], float)"
   ]
  },
  {
   "cell_type": "code",
   "execution_count": 64,
   "metadata": {},
   "outputs": [],
   "source": [
    "if __name__ == \"__main__\":\n",
    "    import doctest\n",
    "    doctest.testmod()"
   ]
  },
  {
   "cell_type": "code",
   "execution_count": 61,
   "metadata": {
    "collapsed": true
   },
   "outputs": [],
   "source": [
    "def eulerCoupled (f, n, r0, interval, steps, *args):\n",
    "    \"\"\" \n",
    "    Solve a coupled system of ODEs by Euler method with fixed number of steps.\n",
    "\n",
    "    Arguements: f - function giving ODE as y'=f(x,y)\n",
    "                n - the number of ODEs\n",
    "                r0 - initial value\n",
    "                interval - tuple region (a,b) on which to solve ODE\n",
    "                steps - number of steps\n",
    "    \n",
    "    Returned: An array containing the output of the two equatons and the time\n",
    "    \"\"\"\n",
    "    \n",
    "    # set up solution mesh\n",
    "    # points will be indexed 0..steps\n",
    "    (a,b) = interval  # endpoints\n",
    "    h = (b-a)/steps  # step size\n",
    "    points = np.zeros((steps+1,n+1))\n",
    "\n",
    "    # set up initial point\n",
    "    t = a    # current point t value\n",
    "    r = r0   # current point r value\n",
    "    points[0,0] = t\n",
    "    points[0,1:] = r\n",
    "\n",
    "    for i in range(1,steps+1):\n",
    "        \n",
    "        # evaluate new point\n",
    "        t_new = t + h\n",
    "        r_new = r + h * f(t,r,*args)\n",
    "        \n",
    "        # save new point\n",
    "        (t,r) = (t_new,r_new)\n",
    "        points[i,0] = t\n",
    "        points[i,1:] = r\n",
    "\n",
    "    return points"
   ]
  },
  {
   "cell_type": "code",
   "execution_count": 62,
   "metadata": {},
   "outputs": [
    {
     "name": "stdout",
     "output_type": "stream",
     "text": [
      "[[  0.00000000e+00   0.00000000e+00   0.00000000e+00]\n",
      " [  1.00000000e-01   0.00000000e+00   0.00000000e+00]\n",
      " [  2.00000000e-01   0.00000000e+00   0.00000000e+00]\n",
      " ..., \n",
      " [  4.99800000e+02   5.87976510e+00   3.01465644e+01]\n",
      " [  4.99900000e+02   5.87976510e+00   3.01465644e+01]\n",
      " [  5.00000000e+02   5.87976510e+00   3.01465644e+01]]\n"
     ]
    },
    {
     "data": {
      "text/plain": [
       "Text(0.5,1,'Earthquake')"
      ]
     },
     "execution_count": 62,
     "metadata": {},
     "output_type": "execute_result"
    },
    {
     "data": {
      "image/png": "[encoded data removed]",
      "text/plain": [
       "<matplotlib.figure.Figure at 0x23b90f669e8>"
      ]
     },
     "metadata": {},
     "output_type": "display_data"
    }
   ],
   "source": [
    "N = 25\n",
    "averageSpacing = 1\n",
    "variation = 0.001\n",
    "blockPositions = []\n",
    "timeInterval = (0,500)\n",
    "kp = 40\n",
    "kc = 250\n",
    "mass = 1\n",
    "F0 = 50\n",
    "v0 = 0.01\n",
    "vf = 10\n",
    "blockNum = 25\n",
    "\n",
    "for n in range(0,N):\n",
    "    blockPositions.append(n * averageSpacing + (random.random() - 0.5) * 2 * variation)\n",
    "i = 2\n",
    "\n",
    "initialConditions = np.array([0, 0], float)\n",
    "\n",
    "earthquake = eulerCoupled (blockMotion, 2, initialConditions, timeInterval, 5000, i, kp, kc, mass, F0, v0, vf, blockNum)\n",
    "\n",
    "plt.plot(earthquake[:,0], earthquake[:,1])\n",
    "plt.xlabel(\"Time (s)\")\n",
    "plt.ylabel(\"Block Position\")\n",
    "plt.title(\"Earthquake\")"
   ]
  },
  {
   "cell_type": "code",
   "execution_count": null,
   "metadata": {
    "collapsed": true
   },
   "outputs": [],
   "source": []
  }
 ],
 "metadata": {
  "kernelspec": {
   "display_name": "Python 3",
   "language": "python",
   "name": "python3"
  },
  "language_info": {
   "codemirror_mode": {
    "name": "ipython",
    "version": 3
   },
   "file_extension": ".py",
   "mimetype": "text/x-python",
   "name": "python",
   "nbconvert_exporter": "python",
   "pygments_lexer": "ipython3",
   "version": "3.6.3"
  }
 },
 "nbformat": 4,
 "nbformat_minor": 2
}
