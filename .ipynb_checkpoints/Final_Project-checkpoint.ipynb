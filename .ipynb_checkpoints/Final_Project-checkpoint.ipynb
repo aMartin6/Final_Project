{
 "cells": [
  {
   "cell_type": "markdown",
   "metadata": {},
   "source": [
    "# Earthquakes and Self-Organized Criticality"
   ]
  },
  {
   "cell_type": "markdown",
   "metadata": {},
   "source": [
    "## Introduction\n",
    "\n",
    "To gain a better understanding of the nature of earthquakes, we can make use of simple models. This is important, because it may help us to predict when a catastrophic earthquake may occur. One subject that scientists disagree on is whether or not earthquakes display self-organized criticality (SOC). This is the tendency for the earth to be shifted towards a critical point as a result of the earthquake phenomena. If this is the true nature of earthquakes, then each one has an equally likely chance of being catastrophic. However, there is evidence to suggest that this is not the case. For example, the majority of large earthquakes are preceded by a buildup of intermediate events $^{[2]}$. \n",
    "\n",
    "To help us understand this basic behavior of earthquakes, we can use a model that contains a series of blocks and springs in between two plates on the top and bottom, shown in the figure below. This represents a fault line in the earth's crust. The top and bottom plates represent two of the earth's adjacent plates that slide past each other over time. The top plate moves at a steady and slow velocity, and it is connected to each block by a leaf spring. As a result, the leaf springs will slowly build up tension until a block moves causing other blocks to move suddenly and then stop, which represents an earthquake. In this model, the friction force between the bottom plate and the blocks decreases as the velocity of the block increases. The model was proposed by Burridge and Knopoff in 1967. This is a one-dimensional block-spring model, and it can be expanded to two dimensions for a more accurate depiction $^{[1]}$.\n",
    "\n",
    "![image.png](Spring Force Diagram.png)\n",
    "\n",
    "The size of an earthquake is measured using the Richter scale. It is a logarithmic scale that represents the amount one plate shifts relative to another. We use a logarithmic scale, because it there are a wide range of magnitudes, and small earthquakes are more common than large ones. The Gutenberg-Richter law states the probability of an earthquake of a certain magnitude happening:\n",
    "\n",
    "\\begin{equation*}    \n",
    "P (M) = Ae^{-bM}\n",
    "\\end{equation*}\n",
    "\n",
    "Where M is the magnitude, which is represented in our model by the total distance the blocks have shifted. By implemeting the mathematical model, I hope to calcualte a value of b that is close to what we see in nature (0.8 - 1.5)$^{[1]}$."
   ]
  },
  {
   "cell_type": "markdown",
   "metadata": {},
   "source": [
    "## Model\n",
    "\n",
    "The equations that model the spring force on the blocks $^{[1]}$:  \n",
    "* Spring force on block from neighboring blocks:\n",
    "    \n",
    "\\begin{equation*}    \n",
    "F_b = -k_c(x_i - x_{i+1}) - k_c(x_i - x_{i-1}) \n",
    "\\end{equation*}\n",
    "\n",
    "* Force of a leaf spring from the top plate on block: \n",
    "\n",
    "\\begin{equation*}    \n",
    "F_l = -k_p(x_i - v_0 t)\n",
    "\\end{equation*} \n",
    "    \n",
    "* Friction force due to bottom plate: \n",
    "\n",
    "\\begin{equation*}\n",
    "F_f = -\\frac{F_0 sin(v_i)}{1 + |v_i / v_f|}\n",
    "\\end{equation*}\n",
    "\n",
    "Overall differential equation of motion:  \n",
    "* This equation combines the above equations into one differential equation relating the position of block i to the total force acting on it.\n",
    "\n",
    "\\begin{equation*}\n",
    "m_i \\frac{d^2 x_i}{dt^2} = k_c(x_{i+1} + x_{i-1} - 2x_i) + k_p(v_0 t - x_i) + F_f\n",
    "\\end{equation*}\n",
    "\n",
    "* If we break this up, we have: \n",
    "\n",
    "\\begin{equation*}    \n",
    "\\frac{dx_i}{dt} = v_i \\space\\space and \\space\\space m_i \\frac{d v_i}{dt} = k_c(x_{i+1} + x_{i-1} - 2x_i) + k_p(v_0 t - x_i) + F_f\n",
    "\\end{equation*}\n",
    "\n",
    "Where for each block:  \n",
    "$F_b$ is force from neighboring block  \n",
    "$F_l$ is the force from the leaf spring  \n",
    "$F_f$ is the friction force from the bottom plate  \n",
    "$k_c$ is the spring constant of springs between blocks  \n",
    "$k_l$ is the spring constant of the leaf springs  \n",
    "$x_i$ is the position of block i with respect to equilibruim position  \n",
    "$v_i$ is the velocity of block i  \n",
    "$m_i$ is the mass of block i  \n",
    "$V_0$ is the static friction force  \n",
    "$V_f$ is the friction coefficient that determines how friction relates to velocity"
   ]
  },
  {
   "cell_type": "markdown",
   "metadata": {},
   "source": [
    "## Numerical Methods\n",
    "\n",
    "My model follows the one dimensional block and spring model proposed by Burridge and Knopoff. The friction force between the blocks and the bottom plate is a function of the velocity of the block. It decreases as the velocity increases. To calculate the position and velocity of the blocks over time, I used the Euler method. I adapted the method to process an array of block positions and velocities at each step. I also incorporated an adaptive step size, in order to speed up the time it takes to process a large amount of data. When none of the blocks are moving, the step size is large, and when any of the blocks are moving, the step size is much smaller. At time t = 0 the blocks are within 0.001 distance units of their equilibrium positions, and their variation is random.\n",
    "\n",
    "After following the model proposed in Gionardo's book, and calculating a constant for the Gutenberg-Richter law, I decided to see how varying the masses of the blocks would affect the outcome of this calculation."
   ]
  },
  {
   "cell_type": "code",
   "execution_count": 3,
   "metadata": {
    "collapsed": true
   },
   "outputs": [],
   "source": [
    "import pylab as plt\n",
    "import numpy as np\n",
    "import random\n",
    "%matplotlib inline"
   ]
  },
  {
   "cell_type": "code",
   "execution_count": 2,
   "metadata": {
    "collapsed": true
   },
   "outputs": [],
   "source": [
    "def friction (vi, vf, F0):\n",
    "    \"\"\"\n",
    "    Returns the friction of the bottom plate against blocks moving at a specific velocity\n",
    "    \n",
    "    Arguments:  vi - initial velocity of the block\n",
    "                vf - final velocity of the block\n",
    "                F0 - the static friction force\n",
    "    \n",
    "    Returned: The force due to friction\n",
    "    \n",
    "    Examples:\n",
    "    \n",
    "    >>> friction (0, 1, 20)\n",
    "    -20.0\n",
    "    \n",
    "    >>> friction (1, 1, 20)\n",
    "    -10.0\n",
    "    \"\"\"\n",
    "    # Calculates sign of vi\n",
    "    if vi == 0:\n",
    "        sign = 1\n",
    "        \n",
    "    else:\n",
    "        sign = vi / abs(vi)\n",
    "        \n",
    "    force = -((F0) * sign / (1 + abs(vi/vf)))\n",
    "    return force"
   ]
  },
  {
   "cell_type": "code",
   "execution_count": 3,
   "metadata": {
    "collapsed": true
   },
   "outputs": [],
   "source": [
    "def blockMotion (t, blockPositions, vBlock, i, blockNum, kp, kc, mass, F0, v0, vf):\n",
    "    \"\"\"\n",
    "    Returns the differential equation that models the motion of the blocks\n",
    "    \n",
    "    Arguments:  t - time\n",
    "                blockPositions - the positions of the blocks\n",
    "                vBlock - the velocity of the block\n",
    "                i - the index of the current block\n",
    "                blockNum - the number of blocks\n",
    "                kp - spring constant of leaf springs\n",
    "                kc - spring constant of springs between blocks\n",
    "                mass - mass of individual block\n",
    "                F0 - the static friction force\n",
    "                v0 - initial velocity of top plate\n",
    "                vf - the friction coefficient\n",
    "                \n",
    "    Returned: The differential equation modeling the motion of the individual blocks\n",
    "    \n",
    "    Examples:\n",
    "    \n",
    "    >>> blockMotion (0, (0, 1, 2, 3, 4), 0, 2, 5, 0, 0, 1, 0, 1, 20)\n",
    "    array([ 0.,  0.])\n",
    "    \n",
    "    \"\"\"\n",
    "    # Sets position and velocity of the block\n",
    "    xi = blockPositions[i] - i\n",
    "    vi = vBlock\n",
    "    \n",
    "    # Block motion for the first block, connected to a block one distance unit away\n",
    "    if i == 0:\n",
    "        xiP = blockPositions[i + 1] - (i + 1)\n",
    "        springForce = kc*(xiP - xi) + kp * (v0 * t - xi)\n",
    "    \n",
    "    # Block motion for the last block, connected to a block one distance unit away\n",
    "    elif i == blockNum - 1:\n",
    "        xiM = blockPositions[i - 1] - (i - 1)\n",
    "        springForce = kc*(xiM - xi) + kp * (v0 * t - xi)\n",
    "   \n",
    "    # Block motion for all the middle blocks, connected to their neighbors\n",
    "    else:\n",
    "        xiM = blockPositions[i - 1] - (i - 1)\n",
    "        xiP = blockPositions[i + 1] - (i + 1)\n",
    "        springForce = kc*(xiP + xiM - 2 * xi) + kp * (v0 * t - xi)\n",
    "    \n",
    "    frictionForce = friction (vi, vf, F0)\n",
    "    \n",
    "    # If spring force is large enough to overpower friction, change velocity\n",
    "    if abs(springForce) <= abs(frictionForce):\n",
    "        dv = -vi\n",
    "        vi = 0\n",
    "        dx = vi\n",
    "    \n",
    "    else: \n",
    "        totalForce = (springForce + frictionForce) / mass\n",
    "        dx = vi\n",
    "        dv = totalForce\n",
    "        \n",
    "    return np.array([dx, dv], float)"
   ]
  },
  {
   "cell_type": "code",
   "execution_count": 4,
   "metadata": {
    "collapsed": true
   },
   "outputs": [],
   "source": [
    "def eulerCoupledAdaptive (f, n, blockPositions, vBlock, blockNum, h1, h2, maxPoints, minBlockV, *args, verbose = False):\n",
    "    \"\"\" \n",
    "    Solve a coupled system of ODEs by Euler method with fixed number of steps.\n",
    "\n",
    "    Arguements: f - function giving ODE as y'=f(x,y)\n",
    "                n - the number of ODEs\n",
    "                blockPositions - the array containging the initial block positions\n",
    "                vBlock - initial block velocity\n",
    "                blockNum - the number of blocks\n",
    "                interval - tuple region (a,b) on which to solve ODE\n",
    "                steps - number of steps\n",
    "    \n",
    "    Returned: An array containing the positions and velocies of the blocks over time\n",
    "    \"\"\"\n",
    "    \n",
    "    points = np.zeros((maxPoints, blockNum*2 + 1)) # array to contain all the block positions and velocities over time\n",
    "\n",
    "    # set up initial point\n",
    "    t = 0\n",
    "    points[0,0] = t\n",
    "    count = 0\n",
    "    \n",
    "    # Sets up first row of poitns\n",
    "    for l in range(1, blockNum + 1):\n",
    "        points[0,l] = blockPositions[count]   \n",
    "        count += 1\n",
    "    for m in range(blockNum + 1, blockNum * 2 + 1):\n",
    "        points[0,m] = vBlock\n",
    "    \n",
    "    # initializes count, dv and r\n",
    "    count = 1\n",
    "    dv = 0\n",
    "    r = (0,0)\n",
    "    \n",
    "    while points[maxPoints - 1, 0] == 0: # Repeats until points array is filled up                   \n",
    "        \n",
    "        # Proceeds if none of the blocks are moving\n",
    "        if dv < minBlockV:\n",
    "            h = h1 # Long timestep\n",
    "            \n",
    "            # Repeats Euler calculation until one of the blocks moves or points is full\n",
    "            while dv < minBlockV and points[maxPoints - 1, 0] == 0:\n",
    "                \n",
    "                if verbose == True:\n",
    "                    print(\"h1:\", t)\n",
    "                \n",
    "                # Saves block positions and updates timestep\n",
    "                oldBlockPositions = blockPositions\n",
    "                t = t + h\n",
    "                points[count,0] = t\n",
    "                dv = 0\n",
    "                \n",
    "                # Repeats Euler calculation for each block\n",
    "                for i in range(0, blockNum): \n",
    "\n",
    "                    r = np.array([points[count-1, i + 1], points[count-1, i + 1 + blockNum]]) # Updates r from previous timestep\n",
    "\n",
    "                    r_new = r + h * f(t, blockPositions, r[1], i, blockNum, *args) # Calculates new r\n",
    "\n",
    "                    r = r_new \n",
    "                    blockPositions[i] = r[0]\n",
    "                    \n",
    "                    # Updates dv\n",
    "                    if r[1] > dv:\n",
    "                        dv = r[1]\n",
    "                        \n",
    "                    if verbose == True:\n",
    "                        print(i, blockPositions[i], r[1], dv)\n",
    "                        \n",
    "                    # Saves values to points\n",
    "                    points[count,i + 1] = r[0]\n",
    "                    points[count,i + 1 + blockNum] = r[1]\n",
    "\n",
    "                count += 1\n",
    "                \n",
    "        # Proceeds if any of the blocks are moving        \n",
    "        elif points[maxPoints - 1, 0] == 0:\n",
    "            # Resets to previous timestep\n",
    "            h = h2 # Short timestep\n",
    "            t -= h1\n",
    "            count -= 1\n",
    "            blockPositions = oldBlockPositions\n",
    "            dv = 0\n",
    "\n",
    "            # Repeats Euler calculation until one of the blocks moves or points is full\n",
    "            # This is necessary, because the timestep was reset, so dv will still be zero\n",
    "            while dv < minBlockV and points[maxPoints - 1, 0] == 0: \n",
    "                \n",
    "                if verbose == True:\n",
    "                    print(\"h2:\", t)\n",
    "                \n",
    "                # Saves block positions and updates timestep                \n",
    "                oldBlockPositions = blockPositions\n",
    "                t = t + h\n",
    "                points[count,0] = t\n",
    "                dv = 0\n",
    "\n",
    "                # Repeats Euler calculation for each block                \n",
    "                for i in range(0, blockNum):\n",
    "\n",
    "                    r = np.array([points[count-1, i + 1], points[count-1, i + 1 + blockNum]]) # Updates r from previous timestep\n",
    "\n",
    "                    r_new = r + h * f(t, blockPositions, r[1], i, blockNum, *args) # Calculates new r\n",
    "\n",
    "                    r = r_new            \n",
    "                    blockPositions[i] = r[0]\n",
    "                    \n",
    "                    # Updates dv\n",
    "                    if r[1] > dv:\n",
    "                        dv = r[1]\n",
    "\n",
    "                    if verbose == True:\n",
    "                        print(i, blockPositions[i], r[1], dv)\n",
    "                        \n",
    "                    # Saves values to points\n",
    "                    points[count,i + 1] = r[0]\n",
    "                    points[count,i + 1 + blockNum] = r[1]\n",
    "\n",
    "                count += 1\n",
    "                \n",
    "            # Repeats Euler calculation until all of the blocks are still or points is full                \n",
    "            while dv >= minBlockV and points[maxPoints - 1, 0] == 0: \n",
    "                \n",
    "                if verbose == True:\n",
    "                    print(\"h2:\", t)\n",
    "                \n",
    "                # Saves block positions and updates timestep\n",
    "                oldBlockPositions = blockPositions\n",
    "                t = t + h\n",
    "                points[count,0] = t\n",
    "                dv = 0\n",
    "\n",
    "                # Repeats Euler calculation for each block  \n",
    "                for i in range(0, blockNum):\n",
    "\n",
    "                    r = np.array([points[count-1, i + 1], points[count-1, i + 1 + blockNum]]) # Updates r from previous timestep\n",
    "\n",
    "                    r_new = r + h * f(t, blockPositions, r[1], i, blockNum, *args) # Calculates new r\n",
    "\n",
    "                    r = r_new            \n",
    "                    blockPositions[i] = r[0]\n",
    "                    \n",
    "                    # Updates dv\n",
    "                    if r[1] > dv:\n",
    "                        dv = r[1]\n",
    "\n",
    "                    if verbose == True:\n",
    "                        print(i, blockPositions[i], r[1], dv)\n",
    "                        \n",
    "                    # Saves values to points\n",
    "                    points[count,i + 1] = r[0]\n",
    "                    points[count,i + 1 + blockNum] = r[1]\n",
    "\n",
    "                count += 1\n",
    "\n",
    "    return points"
   ]
  },
  {
   "cell_type": "code",
   "execution_count": 109,
   "metadata": {
    "collapsed": true
   },
   "outputs": [],
   "source": [
    "def countQuakes (earthquakes, blockNum, timeStep):\n",
    "    \"\"\"\n",
    "    Produces a list of each earthquake and its magnitude\n",
    "    \n",
    "    Arguments:  earthquakes - the array containing all earthquake data\n",
    "                blockNum - the number of blocks\n",
    "                i - the block index to be examined\n",
    "                \n",
    "    Returned: a list containing the magnitude of each earthquake\n",
    "    \"\"\"    \n",
    "    quakes = []\n",
    "    count = 0\n",
    "    quakeNum = -1\n",
    "    dvOld = 0\n",
    "    \n",
    "    # Repeats for each row of earthquakes\n",
    "    while count < len(earthquakes):\n",
    "        \n",
    "        # Determines if any of the blocks are moving\n",
    "        dv = 0\n",
    "        for i in range (0, blockNum):\n",
    "            if dv < earthquakes[count, blockNum + i + 1]:\n",
    "                dv = earthquakes[count, blockNum + i + 1]\n",
    "        \n",
    "        # If any of the blocks are accelerating add an earthquake\n",
    "        if dv > dvOld:\n",
    "            quakeNum += 1\n",
    "            quakes.append(0)\n",
    "            \n",
    "            # Add the motion from all the blocks until the earthquake stops\n",
    "            earthquakeLength = 0\n",
    "            while dv > 0.0001 and count < len(earthquakes) - 1 and earthquakeLength < 200:\n",
    "\n",
    "                for i in range (0, blockNum):\n",
    "                    quakes[quakeNum] += earthquakes[count, blockNum + i + 1] * timeStep\n",
    "\n",
    "                # Incriments count and recalculates dv\n",
    "                count += 1            \n",
    "                dv = 0\n",
    "                for i in range (0, blockNum):\n",
    "                    if dv < earthquakes[count, blockNum + i + 1]:\n",
    "                        dv = earthquakes[count, blockNum + i + 1]\n",
    "                earthquakeLength += 1\n",
    "    \n",
    "        else:\n",
    "            count += 1\n",
    "        dvOld = dv\n",
    "        \n",
    "    return quakes"
   ]
  },
  {
   "cell_type": "code",
   "execution_count": 76,
   "metadata": {
    "collapsed": true
   },
   "outputs": [],
   "source": [
    "def countMagnitudes (magnitudes):\n",
    "    \"\"\"\n",
    "    Produces a list of the number of earthquakes that fall within a certain range of magnitudes\n",
    "    \n",
    "    Arguments: magnitudes - a list of magnitudes\n",
    "                \n",
    "    Returned: a list containing the number of occurrences of each magnitude\n",
    "    \"\"\"\n",
    "    magValues = np.linspace(-7, 7, 29)\n",
    "    occurences = np.zeros(29, int)\n",
    "    \n",
    "    for i in range(0, len(magnitudes)):\n",
    "        count = 0\n",
    "        for n in magValues:\n",
    "            if magnitudes[i] >= n and magnitudes[i] < n + 0.25:\n",
    "                occurences[count] += 1\n",
    "            count += 1\n",
    "                \n",
    "    return magValues, occurences"
   ]
  },
  {
   "cell_type": "markdown",
   "metadata": {},
   "source": [
    "## Example of Small Earthquake Model"
   ]
  },
  {
   "cell_type": "code",
   "execution_count": 120,
   "metadata": {
    "collapsed": true
   },
   "outputs": [],
   "source": [
    "blockPositions = [] # Array to contain random block positions\n",
    "testBlockPositions = [] #Test array with set block positions\n",
    "averageSpacing = 1 # Average spacing between blocks\n",
    "kp = 40 # Leaf spring constant\n",
    "kc = 250 # Spring constant between blocks\n",
    "mass = 1 # Mass of blocks\n",
    "F0 = 50 # Static friction force\n",
    "v0 = 0.01 # Velocity of the top plate\n",
    "vBlock = 0 # Initial velocity of blocks\n",
    "vf = 3.0 # Friction coefficient\n",
    "blockNum = 25 # Number of blocks\n",
    "maxTimeSteps = 50000 # Total number of timesteps to be calculated\n",
    "minBLockV = 1e-8 # Velocity at which small timestep will kick in\n",
    "timeStepShort = 0.005 # More presice timestep\n",
    "timeStepLong = 1 # Less precice timestep\n",
    "variation = 0.001 # Variation in distance between blocks\n",
    "\n",
    "# Calculates inital block positions\n",
    "for n in range(0, blockNum + 1):\n",
    "    blockPositions.append(n * averageSpacing + (random.random() - 0.5) * 2 * variation)\n",
    "    testBlockPositions.append(n)"
   ]
  },
  {
   "cell_type": "code",
   "execution_count": 121,
   "metadata": {
    "collapsed": true
   },
   "outputs": [],
   "source": [
    "# Calculates earthquake postition and velocity over the given time range\n",
    "earthquake = eulerCoupledAdaptive (blockMotion, 2, blockPositions, vBlock, blockNum, timeStepLong,\\\n",
    "                           timeStepShort, maxTimeSteps, minBLockV, kp, kc, mass, F0, v0, vf) "
   ]
  },
  {
   "cell_type": "code",
   "execution_count": 122,
   "metadata": {},
   "outputs": [
    {
     "data": {
      "text/plain": [
       "Text(0.5,1,'Velocity of Block Over Time')"
      ]
     },
     "execution_count": 122,
     "metadata": {},
     "output_type": "execute_result"
    },
    {
     "data": {
      "image/png": "[encoded data removed]",
      "text/plain": [
       "<matplotlib.figure.Figure at 0x22e07c72668>"
      ]
     },
     "metadata": {},
     "output_type": "display_data"
    }
   ],
   "source": [
    "# Sets up new array for plotting\n",
    "earthquakePlot = np.copy(earthquake)\n",
    "\n",
    "# Normalizes block positions relative to their equilibrium positions\n",
    "for n in range(1, blockNum + 1):\n",
    "    for m in range(0, maxTimeSteps):\n",
    "        earthquakePlot[m,n] += -n + 1\n",
    "    \n",
    "plt.figure(figsize = (15,5))\n",
    "\n",
    "# Plots all of the block positions on the same plot\n",
    "plt.subplot(121)\n",
    "for i in range (1, blockNum + 1):\n",
    "    plt.plot(earthquakePlot[:, 0], earthquakePlot[:, i])\n",
    "plt.xlabel(\"Time\")\n",
    "plt.ylabel(\"Block Position\")\n",
    "plt.title(\"Position of Block Over Time\")\n",
    "\n",
    "# Plots all of the block velocities on the same plot\n",
    "plt.subplot(122)\n",
    "for i in range (0, blockNum):\n",
    "    plt.plot(earthquakePlot[:,0], earthquakePlot[:, blockNum + i + 1])\n",
    "plt.xlabel(\"Time\")\n",
    "plt.ylabel(\"Block Velocity\")\n",
    "plt.title(\"Velocity of Block Over Time\")"
   ]
  },
  {
   "cell_type": "markdown",
   "metadata": {},
   "source": [
    "These plots depict the change in position and velocity over a time span of 500 time units of the series of blocks described above. In this example, there are 25 blocks with random spacing within a variation of 0.001 distance units. They are connected by springs with a kc value of 250. Each block's motion is plotted individually with its own color, and its position shown is relative to its equilibrium position.  \n",
    "\n",
    "The left plot depicts the position of the blocks over time. This shows that the blocks roughly move in sync with each other, but not perfectly. Each time the position increases sharply, an earthquake has happened, and the distance the blocks move is correlated to the magnitude of the event. Because the positions of the blocks was varied slightly, the time at which each event happens, and its magnitude also varies.  \n",
    "\n",
    "The right plot depicts the velocity of the blocks over time. This matches the derivative of the position plot, and shows that the blocks roughly accelerate and decelerate at the same time, but not precisely, and this slight variation is consistent with what we would expect from a natural system."
   ]
  },
  {
   "cell_type": "code",
   "execution_count": 123,
   "metadata": {},
   "outputs": [
    {
     "name": "stderr",
     "output_type": "stream",
     "text": [
      "C:\\Users\\adria\\Anaconda3\\lib\\site-packages\\ipykernel_launcher.py:2: RuntimeWarning: divide by zero encountered in log\n",
      "  \n"
     ]
    }
   ],
   "source": [
    "earthquakeMoments = countQuakes(earthquakePlot, blockNum, timeStepShort)\n",
    "earthquakeMagnitudes = list(map(np.log,earthquakeMoments))"
   ]
  },
  {
   "cell_type": "code",
   "execution_count": 124,
   "metadata": {},
   "outputs": [
    {
     "data": {
      "image/png": "[encoded data removed]",
      "text/plain": [
       "<matplotlib.figure.Figure at 0x22e07caa668>"
      ]
     },
     "metadata": {},
     "output_type": "display_data"
    }
   ],
   "source": [
    "plt.plot(earthquakeMagnitudes, \"b o\")\n",
    "plt.title(\"Earthquake Magnitudes\")\n",
    "plt.xlabel(\"Earthquake Number\")\n",
    "plt.ylabel(\"Earthquake Magnitude\")\n",
    "plt.show()"
   ]
  },
  {
   "cell_type": "markdown",
   "metadata": {},
   "source": [
    "This is an example of a scatter plot that represents the magnitude of each earthquake that occurred during the above timeframe, in the order that they occurred. Each magnitude was calculated by taking the logarithm of the total distance moved by all of the blocks."
   ]
  },
  {
   "cell_type": "markdown",
   "metadata": {},
   "source": [
    "## Results From Large Earthquake Model"
   ]
  },
  {
   "cell_type": "markdown",
   "metadata": {},
   "source": [
    "The following data was calculated in the file Big Data Collection. It uses the same methods described above, but over 5000000 timesteps instead of 50000."
   ]
  },
  {
   "cell_type": "code",
   "execution_count": 39,
   "metadata": {},
   "outputs": [
    {
     "data": {
      "text/plain": [
       "<function matplotlib.pyplot.show>"
      ]
     },
     "execution_count": 39,
     "metadata": {},
     "output_type": "execute_result"
    },
    {
     "data": {
      "image/png": "[encoded data removed]",
      "text/plain": [
       "<matplotlib.figure.Figure at 0x1c7c184d9b0>"
      ]
     },
     "metadata": {},
     "output_type": "display_data"
    }
   ],
   "source": [
    "bigOccurences = [  0, 244, 777, 523, 576, 693, 643, 674, 463, 326, 178, 107,  97,  56,  54,  55,  58,  57,\n",
    "  94, 149, 214, 352, 488, 164,   6,   0,   0,   0,   0]\n",
    "bigMagnitudes = np.linspace(-7, 7, 29)\n",
    "\n",
    "A = 40\n",
    "b = 0.8\n",
    "fitX = np.linspace(-4, 0)\n",
    "fitY = []\n",
    "for i in fitX:\n",
    "    fitY.append(A * np.exp(-b * i))\n",
    "\n",
    "plt.semilogy(bigMagnitudes, bigOccurences, \"b o\", label = \"Number of Magnitude Occurences\")\n",
    "plt.semilogy(fitX, fitY, label = \"Fitted Function\")\n",
    "plt.title(\"Histogram of Magnitude Occurences\")\n",
    "plt.xlabel(\"Magnitude\")\n",
    "plt.ylabel(\"Occurences\")\n",
    "plt.legend(loc = \"best\")\n",
    "plt.show"
   ]
  },
  {
   "cell_type": "code",
   "execution_count": 17,
   "metadata": {},
   "outputs": [
    {
     "data": {
      "text/plain": [
       "7056"
      ]
     },
     "execution_count": 17,
     "metadata": {},
     "output_type": "execute_result"
    }
   ],
   "source": [
    "sum(bigOccurences)"
   ]
  },
  {
   "cell_type": "markdown",
   "metadata": {},
   "source": [
    "The above plot is a histogram representing the number of earthquakes that occur within certain magnitude ranges in the given timeframe. This data was collected over 5000000 timesteps and there are 7056 total earthquakes. The plot is scaled with a logerithmic scale on the y axis to show that there is a decaying exponential relationship between the probablility and the magnitude of an earthquake. This model has an excess amount of large magnitues, so I am only considering the data that is between -3 and 0. Over this range, the function that fits the data is $P(M) = 40e^{-0.8M}$, where M is the magnitude. Here, the b value, 0.8, is at the low end of the range of b values that we tend to see in nature. "
   ]
  },
  {
   "cell_type": "markdown",
   "metadata": {},
   "source": [
    "## Restults From Model With Varying Masses\n",
    "\n",
    "The following function is the function I used when calculating the position and velocity over time of a system with various block masses. I chose to vary them over a range from 0.5 to 2.0."
   ]
  },
  {
   "cell_type": "code",
   "execution_count": 93,
   "metadata": {
    "collapsed": true
   },
   "outputs": [],
   "source": [
    "def blockMotionVaryingMasses (t, blockPositions, vBlock, i, blockNum, kp, kc, mass, F0, v0, vf):\n",
    "    \"\"\"\n",
    "    Returns the differential equation that models the motion of the blocks\n",
    "    \n",
    "    Arguments:  t - time\n",
    "                blockPositions - the positions of the blocks\n",
    "                vBlock - the velocity of the block\n",
    "                i - the index of the current block\n",
    "                blockNum - the number of blocks\n",
    "                kp - spring constant of leaf springs\n",
    "                kc - spring constant of springs between blocks\n",
    "                mass - masses of individual blocks\n",
    "                F0 - the static friction force\n",
    "                v0 - initial velocity of top plate\n",
    "                vf - the friction coefficient\n",
    "                \n",
    "    Returned: The differential equation modeling the motion of the individual blocks\n",
    "    \n",
    "    Examples:\n",
    "    \n",
    "    >>> blockMotion (0, (0, 1, 2, 3, 4), 0, 2, 5, 0, 0, 1, 0, 1, 20)\n",
    "    array([ 0.,  0.])\n",
    "    \n",
    "    \"\"\"\n",
    "    # Sets position and velocity of the block\n",
    "    xi = blockPositions[i] - i\n",
    "    vi = vBlock\n",
    "    mi = mass[i]\n",
    "    \n",
    "    # Block motion for the first block, connected to a block one distance unit away\n",
    "    if i == 0:\n",
    "        xiP = blockPositions[i + 1] - (i + 1)\n",
    "        springForce = kc*(xiP - xi) + kp * (v0 * t - xi)\n",
    "    \n",
    "    # Block motion for the last block, connected to a block one distance unit away\n",
    "    elif i == blockNum - 1:\n",
    "        xiM = blockPositions[i - 1] - (i - 1)\n",
    "        springForce = kc*(xiM - xi) + kp * (v0 * t - xi)\n",
    "   \n",
    "    # Block motion for all the middle blocks, connected to their neighbors\n",
    "    else:\n",
    "        xiM = blockPositions[i - 1] - (i - 1)\n",
    "        xiP = blockPositions[i + 1] - (i + 1)\n",
    "        springForce = kc*(xiP + xiM - 2 * xi) + kp * (v0 * t - xi)\n",
    "    \n",
    "    frictionForce = friction (vi, vf, F0)\n",
    "    \n",
    "    # If spring force is large enough to overpower friction, change velocity\n",
    "    if abs(springForce) <= abs(frictionForce):\n",
    "        dv = -vi\n",
    "        vi = 0\n",
    "        dx = vi\n",
    "    \n",
    "    else: \n",
    "        totalForce = (springForce + frictionForce) / mi\n",
    "        dx = vi\n",
    "        dv = totalForce\n",
    "        \n",
    "    return np.array([dx, dv], float)"
   ]
  },
  {
   "cell_type": "code",
   "execution_count": 54,
   "metadata": {},
   "outputs": [
    {
     "data": {
      "text/plain": [
       "<function matplotlib.pyplot.show>"
      ]
     },
     "execution_count": 54,
     "metadata": {},
     "output_type": "execute_result"
    },
    {
     "data": {
      "image/png": "[encoded data removed]",
      "text/plain": [
       "<matplotlib.figure.Figure at 0x1c7c0492898>"
      ]
     },
     "metadata": {},
     "output_type": "display_data"
    }
   ],
   "source": [
    "bigOccurences = [ 75, 167, 281, 268, 372, 455, 579, 579, 634, 542, 358, 222, 177, 126, 115,  93, 119, 132,\n",
    " 182, 255, 345, 565, 374,  41,   0,   0,   0,   0,   0]\n",
    "bigMagnitudes = np.linspace(-7, 7, 29)\n",
    "\n",
    "A = 75\n",
    "b = 0.75\n",
    "fitX = np.linspace(-4, 0)\n",
    "fitY = []\n",
    "for i in fitX:\n",
    "    fitY.append(A * np.exp(-b * i))\n",
    "    \n",
    "plt.semilogy(bigMagnitudes, bigOccurences, \"b o\", label = \"Number of Magnitude Occurences\")\n",
    "plt.semilogy(fitX, fitY, label = \"Fitted Function\")\n",
    "plt.title(\"Histogram of Magnitude Occurences With Varied Block Mass\")\n",
    "plt.xlabel(\"Magnitude\")\n",
    "plt.ylabel(\"Occurences\")\n",
    "plt.legend(loc = \"best\")\n",
    "plt.show"
   ]
  },
  {
   "cell_type": "code",
   "execution_count": 44,
   "metadata": {},
   "outputs": [
    {
     "data": {
      "text/plain": [
       "7056"
      ]
     },
     "execution_count": 44,
     "metadata": {},
     "output_type": "execute_result"
    }
   ],
   "source": [
    "sum(bigOccurences)"
   ]
  },
  {
   "cell_type": "markdown",
   "metadata": {},
   "source": [
    "## Analysis\n",
    "\n",
    "The first model shows the position and velocity of a system with 25 blocks over a short amount of time (t = 0 to 500). The position shown on the position vs time plot is the relative position of each block to its equilibrium position. The blocks start out approximately one distance unit away from each other, but with a maximum variation of 0.001 distance units. The purpose of this model was to get an idea of the way the blocks move together of a short period of time. From the plots of position and velocity over time, we can see that the blocks roughly move at the same time, and for the same distance, but there is some variation. This is what we expect, because the blocks are connected by springs with a high kc value (250), but the forces on them are slightly different on account of their various positions. In addition, the average distance the blocks move varies from earthquake to earthquake, and so the magnitude of each earthquake is different. This is consistent with what we see in nature.  \n",
    "\n",
    "After this initial model, I repeated the calculation, but at a much larger time frame (t = 0 to 10000) and with 100 blocks instead of 25. The purpose of this was to get an idea of the average magnitude of the earthquakes, and how often larger earthquakes occur. Beneath my position and velocity plots, I included a scatter plot of depicting the magnitudes of all the earthquakes, and a histogram depicting how often earthquakes within specific ranges of magnitudes occur. I calculated the magnitude by taking the logarithm of the distance one sample block travelled. So far, my histogram is inconclusive, because I have not been able to collect data over a large enough time frame."
   ]
  },
  {
   "cell_type": "markdown",
   "metadata": {},
   "source": [
    "## Sources:\n",
    "\n",
    "[1] Giordano N. 1997. Computational Physics. Upper Sadie River, NJ: Pretence-Hall inc. p. 315-328\n",
    "\n",
    "[2] Sammis C, Smith S. 1999. Seismic Cycles and the Evolution of Stress Correlation in Cellular\n",
    "Automaton Models of Finite Fault Networks. Pure and Applied Geophysics. 155(1)"
   ]
  },
  {
   "cell_type": "code",
   "execution_count": 22,
   "metadata": {
    "collapsed": true
   },
   "outputs": [],
   "source": [
    "if __name__ == \"__main__\":\n",
    "    import doctest\n",
    "    doctest.testmod()"
   ]
  }
 ],
 "metadata": {
  "kernelspec": {
   "display_name": "Python 3",
   "language": "python",
   "name": "python3"
  },
  "language_info": {
   "codemirror_mode": {
    "name": "ipython",
    "version": 3
   },
   "file_extension": ".py",
   "mimetype": "text/x-python",
   "name": "python",
   "nbconvert_exporter": "python",
   "pygments_lexer": "ipython3",
   "version": "3.6.3"
  }
 },
 "nbformat": 4,
 "nbformat_minor": 2
}
