{
 "cells": [
  {
   "cell_type": "markdown",
   "metadata": {},
   "source": [
    "# Earthquakes and Self-Organized Criticality"
   ]
  },
  {
   "cell_type": "markdown",
   "metadata": {},
   "source": [
    "* Self organized criticality is the phenomena that places the earth's temperature and density in the region where earthquakes happen. \n",
    "* In this model, friction force decreses as the velocity of the block relative to the bottom plate increses. \n",
    "* Force equations:\n",
    "    * Force on block from neigboring blocks: $F_b = -k_c(x_i - x_{i+1}) - k_c(x_i - x_{i-1})$\n",
    "    * Force of a leaf spring on block: $F_l = -k_p(x_i - v_0 t)$\n",
    "    * Friction force due to bottom plate: $F_f = -\\frac{F_0 sin(v_i)}{1 + |v_i / v_f|}$\n",
    "* Overall equation of motion: $m_i \\frac{d^2 x_i}{dt^2} = k_c(x_{i+1} + x_{i-1} - 2X_i) + k_p(v_0 t - x_i) + F_f$\n",
    "    * If we break this up, we have: $\\frac{dx_i}{dt} = v_i$ and $m_i \\frac{d^2 v_i}{dt^2} = k_c(x_{i+1} + x_{i-1} - 2X_i) + k_p(v_0 t - x_i) + F_f$"
   ]
  },
  {
   "cell_type": "code",
   "execution_count": null,
   "metadata": {
    "collapsed": true
   },
   "outputs": [],
   "source": []
  }
 ],
 "metadata": {
  "kernelspec": {
   "display_name": "Python 3",
   "language": "python",
   "name": "python3"
  },
  "language_info": {
   "codemirror_mode": {
    "name": "ipython",
    "version": 3
   },
   "file_extension": ".py",
   "mimetype": "text/x-python",
   "name": "python",
   "nbconvert_exporter": "python",
   "pygments_lexer": "ipython3",
   "version": "3.4.5"
  }
 },
 "nbformat": 4,
 "nbformat_minor": 2
}
