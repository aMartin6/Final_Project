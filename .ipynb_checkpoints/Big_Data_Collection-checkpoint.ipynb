{
 "cells": [
  {
   "cell_type": "markdown",
   "metadata": {},
   "source": [
    "# Big Data Collection"
   ]
  },
  {
   "cell_type": "markdown",
   "metadata": {},
   "source": [
    "In this file, I take the data that is too large to be presented in the main file. It will be processed here, and the results will be presented."
   ]
  },
  {
   "cell_type": "code",
   "execution_count": 3,
   "metadata": {
    "collapsed": true
   },
   "outputs": [],
   "source": [
    "import pylab as plt\n",
    "import numpy as np\n",
    "import random\n",
    "%matplotlib inline"
   ]
  },
  {
   "cell_type": "code",
   "execution_count": 4,
   "metadata": {
    "collapsed": true
   },
   "outputs": [],
   "source": [
    "def friction (vi, vf, F0):\n",
    "    \"\"\"\n",
    "    Returns the friction of the bottom plate against blocks moving at a specific velocity\n",
    "    \n",
    "    Arguments:  vi - initial velocity of the block\n",
    "                vf - final velocity of the block\n",
    "                F0 - the static friction force\n",
    "    \n",
    "    Returned: The force due to friction\n",
    "    \n",
    "    Examples:\n",
    "    \n",
    "    >>> friction (0, 1, 20)\n",
    "    -20.0\n",
    "    \n",
    "    >>> friction (1, 1, 20)\n",
    "    -10.0\n",
    "    \"\"\"\n",
    "    # Calculates sign of vi\n",
    "    if vi == 0:\n",
    "        sign = 1\n",
    "        \n",
    "    else:\n",
    "        sign = vi / abs(vi)\n",
    "        \n",
    "    force = -((F0) * sign / (1 + abs(vi/vf)))\n",
    "    return force"
   ]
  },
  {
   "cell_type": "code",
   "execution_count": 5,
   "metadata": {
    "collapsed": true
   },
   "outputs": [],
   "source": [
    "def blockMotion (t, blockPositions, vBlock, i, blockNum, kp, kc, mass, F0, v0, vf):\n",
    "    \"\"\"\n",
    "    Returns the differential equation that models the motion of the blocks\n",
    "    \n",
    "    Arguments:  t - time\n",
    "                blockPositions - the positions of the blocks\n",
    "                vBlock - the velocity of the block\n",
    "                i - the index of the current block\n",
    "                blockNum - the number of blocks\n",
    "                kp - spring constant of leaf springs\n",
    "                kc - spring constant of springs between blocks\n",
    "                mass - mass of individual block\n",
    "                F0 - the static friction force\n",
    "                v0 - initial velocity of top plate\n",
    "                vf - the friction coefficient\n",
    "                \n",
    "    Returned: The differential equation modeling the motion of the individual blocks\n",
    "    \n",
    "    Examples:\n",
    "    \n",
    "    >>> blockMotion (0, (0, 1, 2, 3, 4), 0, 2, 5, 0, 0, 1, 0, 1, 20)\n",
    "    array([ 0.,  0.])\n",
    "    \n",
    "    \"\"\"\n",
    "    # Sets position and velocity of the block\n",
    "    xi = blockPositions[i] - i\n",
    "    vi = vBlock\n",
    "    \n",
    "    # Block motion for the first block, connected to a block one distance unit away\n",
    "    if i == 0:\n",
    "        xiP = blockPositions[i + 1] - (i + 1)\n",
    "        springForce = kc*(xiP - xi) + kp * (v0 * t - xi)\n",
    "    \n",
    "    # Block motion for the last block, connected to a block one distance unit away\n",
    "    elif i == blockNum - 1:\n",
    "        xiM = blockPositions[i - 1] - (i - 1)\n",
    "        springForce = kc*(xiM - xi) + kp * (v0 * t - xi)\n",
    "   \n",
    "    # Block motion for all the middle blocks, connected to their neighbors\n",
    "    else:\n",
    "        xiM = blockPositions[i - 1] - (i - 1)\n",
    "        xiP = blockPositions[i + 1] - (i + 1)\n",
    "        springForce = kc*(xiP + xiM - 2 * xi) + kp * (v0 * t - xi)\n",
    "    \n",
    "    frictionForce = friction (vi, vf, F0)\n",
    "    \n",
    "    # If spring force is large enough to overpower friction, change velocity\n",
    "    if abs(springForce) <= abs(frictionForce):\n",
    "        dv = -vi\n",
    "        vi = 0\n",
    "        dx = vi\n",
    "    \n",
    "    else: \n",
    "        totalForce = (springForce + frictionForce) / mass\n",
    "        dx = vi\n",
    "        dv = totalForce\n",
    "        \n",
    "    return np.array([dx, dv], float)"
   ]
  },
  {
   "cell_type": "code",
   "execution_count": 6,
   "metadata": {
    "collapsed": true
   },
   "outputs": [],
   "source": [
    "def eulerCoupledAdaptive (f, n, blockPositions, vBlock, blockNum, h1, h2, maxPoints, minBlockV, *args, verbose = False):\n",
    "    \"\"\" \n",
    "    Solve a coupled system of ODEs by Euler method with fixed number of steps.\n",
    "\n",
    "    Arguements: f - function giving ODE as y'=f(x,y)\n",
    "                n - the number of ODEs\n",
    "                blockPositions - the array containging the initial block positions\n",
    "                vBlock - initial block velocity\n",
    "                blockNum - the number of blocks\n",
    "                interval - tuple region (a,b) on which to solve ODE\n",
    "                steps - number of steps\n",
    "    \n",
    "    Returned: An array containing the positions and velocies of the blocks over time\n",
    "    \"\"\"\n",
    "    \n",
    "    points = np.zeros((maxPoints, blockNum*2 + 1)) # array to contain all the block positions and velocities over time\n",
    "\n",
    "    # set up initial point\n",
    "    t = 0\n",
    "    points[0,0] = t\n",
    "    count = 0\n",
    "    \n",
    "    # Sets up first row of poitns\n",
    "    for l in range(1, blockNum + 1):\n",
    "        points[0,l] = blockPositions[count]   \n",
    "        count += 1\n",
    "    for m in range(blockNum + 1, blockNum * 2 + 1):\n",
    "        points[0,m] = vBlock\n",
    "    \n",
    "    # initializes count, dv and r\n",
    "    count = 1\n",
    "    dv = 0\n",
    "    r = (0,0)\n",
    "    \n",
    "    while points[maxPoints - 1, 0] == 0: # Repeats until points array is filled up                   \n",
    "        \n",
    "        # Proceeds if none of the blocks are moving\n",
    "        if dv < minBlockV:\n",
    "            h = h1 # Long timestep\n",
    "            \n",
    "            # Repeats Euler calculation until one of the blocks moves or points is full\n",
    "            while dv < minBlockV and points[maxPoints - 1, 0] == 0:\n",
    "                \n",
    "                if verbose == True:\n",
    "                    print(\"h1:\", t)\n",
    "                \n",
    "                # Saves block positions and updates timestep\n",
    "                oldBlockPositions = blockPositions\n",
    "                t = t + h\n",
    "                points[count,0] = t\n",
    "                dv = 0\n",
    "                \n",
    "                # Repeats Euler calculation for each block\n",
    "                for i in range(0, blockNum): \n",
    "\n",
    "                    r = np.array([points[count-1, i + 1], points[count-1, i + 1 + blockNum]]) # Updates r from previous timestep\n",
    "\n",
    "                    r_new = r + h * f(t, blockPositions, r[1], i, blockNum, *args) # Calculates new r\n",
    "\n",
    "                    r = r_new \n",
    "                    blockPositions[i] = r[0]\n",
    "                    \n",
    "                    # Updates dv\n",
    "                    if r[1] > dv:\n",
    "                        dv = r[1]\n",
    "                        \n",
    "                    if verbose == True:\n",
    "                        print(i, blockPositions[i], r[1], dv)\n",
    "                        \n",
    "                    # Saves values to points\n",
    "                    points[count,i + 1] = r[0]\n",
    "                    points[count,i + 1 + blockNum] = r[1]\n",
    "\n",
    "                count += 1\n",
    "                \n",
    "        # Proceeds if any of the blocks are moving        \n",
    "        elif points[maxPoints - 1, 0] == 0:\n",
    "            # Resets to previous timestep\n",
    "            h = h2 # Short timestep\n",
    "            t -= h1\n",
    "            count -= 1\n",
    "            blockPositions = oldBlockPositions\n",
    "            dv = 0\n",
    "\n",
    "            # Repeats Euler calculation until one of the blocks moves or points is full\n",
    "            # This is necessary, because the timestep was reset, so dv will still be zero\n",
    "            while dv < minBlockV and points[maxPoints - 1, 0] == 0: \n",
    "                \n",
    "                if verbose == True:\n",
    "                    print(\"h2:\", t)\n",
    "                \n",
    "                # Saves block positions and updates timestep                \n",
    "                oldBlockPositions = blockPositions\n",
    "                t = t + h\n",
    "                points[count,0] = t\n",
    "                dv = 0\n",
    "\n",
    "                # Repeats Euler calculation for each block                \n",
    "                for i in range(0, blockNum):\n",
    "\n",
    "                    r = np.array([points[count-1, i + 1], points[count-1, i + 1 + blockNum]]) # Updates r from previous timestep\n",
    "\n",
    "                    r_new = r + h * f(t, blockPositions, r[1], i, blockNum, *args) # Calculates new r\n",
    "\n",
    "                    r = r_new            \n",
    "                    blockPositions[i] = r[0]\n",
    "                    \n",
    "                    # Updates dv\n",
    "                    if r[1] > dv:\n",
    "                        dv = r[1]\n",
    "\n",
    "                    if verbose == True:\n",
    "                        print(i, blockPositions[i], r[1], dv)\n",
    "                        \n",
    "                    # Saves values to points\n",
    "                    points[count,i + 1] = r[0]\n",
    "                    points[count,i + 1 + blockNum] = r[1]\n",
    "\n",
    "                count += 1\n",
    "                \n",
    "            # Repeats Euler calculation until all of the blocks are still or points is full                \n",
    "            while dv >= minBlockV and points[maxPoints - 1, 0] == 0: \n",
    "                \n",
    "                if verbose == True:\n",
    "                    print(\"h2:\", t)\n",
    "                \n",
    "                # Saves block positions and updates timestep\n",
    "                oldBlockPositions = blockPositions\n",
    "                t = t + h\n",
    "                points[count,0] = t\n",
    "                dv = 0\n",
    "\n",
    "                # Repeats Euler calculation for each block  \n",
    "                for i in range(0, blockNum):\n",
    "\n",
    "                    r = np.array([points[count-1, i + 1], points[count-1, i + 1 + blockNum]]) # Updates r from previous timestep\n",
    "\n",
    "                    r_new = r + h * f(t, blockPositions, r[1], i, blockNum, *args) # Calculates new r\n",
    "\n",
    "                    r = r_new            \n",
    "                    blockPositions[i] = r[0]\n",
    "                    \n",
    "                    # Updates dv\n",
    "                    if r[1] > dv:\n",
    "                        dv = r[1]\n",
    "\n",
    "                    if verbose == True:\n",
    "                        print(i, blockPositions[i], r[1], dv)\n",
    "                        \n",
    "                    # Saves values to points\n",
    "                    points[count,i + 1] = r[0]\n",
    "                    points[count,i + 1 + blockNum] = r[1]\n",
    "\n",
    "                count += 1\n",
    "\n",
    "    return points"
   ]
  },
  {
   "cell_type": "code",
   "execution_count": 7,
   "metadata": {
    "collapsed": true
   },
   "outputs": [],
   "source": [
    "def countQuakes (earthquakes, blockNum, timeStep):\n",
    "    \"\"\"\n",
    "    Produces a list of each earthquake and its magnitude\n",
    "    \n",
    "    Arguments:  earthquakes - the array containing all earthquake data\n",
    "                blockNum - the number of blocks\n",
    "                i - the block index to be examined\n",
    "                \n",
    "    Returned: a list containing the magnitude of each earthquake\n",
    "    \"\"\"    \n",
    "    quakes = []\n",
    "    count = 0\n",
    "    quakeNum = -1\n",
    "    dvOld = 0\n",
    "    \n",
    "    # Repeats for each row of earthquakes\n",
    "    while count < len(earthquakes):\n",
    "        \n",
    "        # Determines if any of the blocks are moving\n",
    "        dv = 0\n",
    "        for i in range (0, blockNum):\n",
    "            if dv < earthquakes[count, blockNum + i + 1]:\n",
    "                dv = earthquakes[count, blockNum + i + 1]\n",
    "        \n",
    "        # If any of the blocks are accelerating add an earthquake\n",
    "        if dv > dvOld:\n",
    "            quakeNum += 1\n",
    "            quakes.append(0)\n",
    "            \n",
    "            # Add the motion from all the blocks until the earthquake stops\n",
    "            earthquakeLength = 0\n",
    "            while dv > 0.0001 and count < len(earthquakes) - 1 and earthquakeLength < 200:\n",
    "\n",
    "                for i in range (0, blockNum):\n",
    "                    quakes[quakeNum] += earthquakes[count, blockNum + i + 1] * timeStep\n",
    "\n",
    "                # Incriments count and recalculates dv\n",
    "                count += 1            \n",
    "                dv = 0\n",
    "                for i in range (0, blockNum):\n",
    "                    if dv < earthquakes[count, blockNum + i + 1]:\n",
    "                        dv = earthquakes[count, blockNum + i + 1]\n",
    "                earthquakeLength += 1\n",
    "    \n",
    "        else:\n",
    "            count += 1\n",
    "        dvOld = dv\n",
    "        \n",
    "    return quakes"
   ]
  },
  {
   "cell_type": "code",
   "execution_count": 8,
   "metadata": {
    "collapsed": true
   },
   "outputs": [],
   "source": [
    "def countMagnitudes (magnitudes):\n",
    "    \"\"\"\n",
    "    Produces a list of the number of earthquakes that fall within a certain range of magnitudes\n",
    "    \n",
    "    Arguments: magnitudes - a list of magnitudes\n",
    "                \n",
    "    Returned: a list containing the number of occurrences of each magnitude\n",
    "    \"\"\"\n",
    "    magValues = np.linspace(-7, 7, 29)\n",
    "    occurences = np.zeros(29, int)\n",
    "    \n",
    "    for i in range(0, len(magnitudes)):\n",
    "        count = 0\n",
    "        for n in magValues:\n",
    "            if magnitudes[i] >= n and magnitudes[i] < n + 0.25:\n",
    "                occurences[count] += 1\n",
    "            count += 1\n",
    "                \n",
    "    return magValues, occurences"
   ]
  },
  {
   "cell_type": "markdown",
   "metadata": {},
   "source": [
    "## Earthquake Following Gionardo's Text"
   ]
  },
  {
   "cell_type": "code",
   "execution_count": 9,
   "metadata": {},
   "outputs": [],
   "source": [
    "blockPositions = [] # Array to contain random block positions\n",
    "testBlockPositions = [] #Test array with set block positions\n",
    "averageSpacing = 1 # Average spacing between blocks\n",
    "kp = 40 # Leaf spring constant\n",
    "kc = 250 # Spring constant between blocks\n",
    "mass = 1 # Mass of blocks\n",
    "F0 = 50 # Static friction force\n",
    "v0 = 0.01 # Velocity of the top plate\n",
    "vBlock = 0 # Initial velocity of blocks\n",
    "vf = 3.0 # Friction coefficient\n",
    "blockNum = 100 # Number of blocks\n",
    "maxTimeSteps = 1000000 # Total number of timesteps to be calculated\n",
    "minBLockV = 1e-8 # Velocity at which small timestep will kick in\n",
    "timeStepShort = 0.005 # More presice timestep\n",
    "timeStepLong = 1 # Less precice timestep\n",
    "variation = 0.001 # Variation in distance between blocks\n",
    "\n",
    "# Calculates inital block positions\n",
    "for n in range(0, blockNum + 1):\n",
    "    blockPositions.append(n * averageSpacing + (random.random() - 0.5) * 2 * variation)\n",
    "    testBlockPositions.append(n)"
   ]
  },
  {
   "cell_type": "code",
   "execution_count": 10,
   "metadata": {
    "collapsed": true
   },
   "outputs": [],
   "source": [
    "# Calculates earthquake postition and velocity over the given time range\n",
    "earthquake = eulerCoupledAdaptive (blockMotion, 2, blockPositions, vBlock, blockNum, timeStepLong,\\\n",
    "                           timeStepShort, maxTimeSteps, minBLockV, kp, kc, mass, F0, v0, vf) \n",
    "\n",
    "# Sets up new array for plotting\n",
    "earthquakePlot = np.copy(earthquake)"
   ]
  },
  {
   "cell_type": "code",
   "execution_count": 11,
   "metadata": {},
   "outputs": [
    {
     "name": "stderr",
     "output_type": "stream",
     "text": [
      "C:\\Users\\adria\\Anaconda3\\lib\\site-packages\\ipykernel_launcher.py:2: RuntimeWarning: divide by zero encountered in log\n",
      "  \n"
     ]
    }
   ],
   "source": [
    "earthquakeMoments = countQuakes(earthquakePlot, blockNum, timeStepShort)\n",
    "earthquakeMagnitudes = list(map(np.log,earthquakeMoments))"
   ]
  },
  {
   "cell_type": "code",
   "execution_count": 12,
   "metadata": {},
   "outputs": [
    {
     "name": "stdout",
     "output_type": "stream",
     "text": [
      "[  0  46 136 100 103 137 105 145  77  68  46  25  15  12  11  14  17   8\n",
      "  22  31  41  77 101  33   1   0   0   0   0]\n"
     ]
    },
    {
     "data": {
      "text/plain": [
       "Text(0,0.5,'Occurences')"
      ]
     },
     "execution_count": 12,
     "metadata": {},
     "output_type": "execute_result"
    },
    {
     "data": {
      "image/png": "[encoded data removed]",
      "text/plain": [
       "<matplotlib.figure.Figure at 0x1e7aa9cb400>"
      ]
     },
     "metadata": {},
     "output_type": "display_data"
    }
   ],
   "source": [
    "bigMagnitudes, bigOccurences = countMagnitudes (earthquakeMagnitudes)\n",
    "print (bigOccurences)\n",
    "plt.plot(bigMagnitudes, bigOccurences, \"b o\")\n",
    "plt.title(\"Histogram of magnitude occurences\")\n",
    "plt.xlabel(\"Magnitude\")\n",
    "plt.ylabel(\"Occurences\")"
   ]
  },
  {
   "cell_type": "markdown",
   "metadata": {},
   "source": [
    "## Model With Varied Masses"
   ]
  },
  {
   "cell_type": "code",
   "execution_count": 93,
   "metadata": {
    "collapsed": true
   },
   "outputs": [],
   "source": [
    "def blockMotionVaryingMasses (t, blockPositions, vBlock, i, blockNum, kp, kc, mass, F0, v0, vf):\n",
    "    \"\"\"\n",
    "    Returns the differential equation that models the motion of the blocks\n",
    "    \n",
    "    Arguments:  t - time\n",
    "                blockPositions - the positions of the blocks\n",
    "                vBlock - the velocity of the block\n",
    "                i - the index of the current block\n",
    "                blockNum - the number of blocks\n",
    "                kp - spring constant of leaf springs\n",
    "                kc - spring constant of springs between blocks\n",
    "                mass - masses of individual blocks\n",
    "                F0 - the static friction force\n",
    "                v0 - initial velocity of top plate\n",
    "                vf - the friction coefficient\n",
    "                \n",
    "    Returned: The differential equation modeling the motion of the individual blocks\n",
    "    \n",
    "    Examples:\n",
    "    \n",
    "    >>> blockMotion (0, (0, 1, 2, 3, 4), 0, 2, 5, 0, 0, 1, 0, 1, 20)\n",
    "    array([ 0.,  0.])\n",
    "    \n",
    "    \"\"\"\n",
    "    # Sets position and velocity of the block\n",
    "    xi = blockPositions[i] - i\n",
    "    vi = vBlock\n",
    "    mi = mass[i]\n",
    "    \n",
    "    # Block motion for the first block, connected to a block one distance unit away\n",
    "    if i == 0:\n",
    "        xiP = blockPositions[i + 1] - (i + 1)\n",
    "        springForce = kc*(xiP - xi) + kp * (v0 * t - xi)\n",
    "    \n",
    "    # Block motion for the last block, connected to a block one distance unit away\n",
    "    elif i == blockNum - 1:\n",
    "        xiM = blockPositions[i - 1] - (i - 1)\n",
    "        springForce = kc*(xiM - xi) + kp * (v0 * t - xi)\n",
    "   \n",
    "    # Block motion for all the middle blocks, connected to their neighbors\n",
    "    else:\n",
    "        xiM = blockPositions[i - 1] - (i - 1)\n",
    "        xiP = blockPositions[i + 1] - (i + 1)\n",
    "        springForce = kc*(xiP + xiM - 2 * xi) + kp * (v0 * t - xi)\n",
    "    \n",
    "    frictionForce = friction (vi, vf, F0)\n",
    "    \n",
    "    # If spring force is large enough to overpower friction, change velocity\n",
    "    if abs(springForce) <= abs(frictionForce):\n",
    "        dv = -vi\n",
    "        vi = 0\n",
    "        dx = vi\n",
    "    \n",
    "    else: \n",
    "        totalForce = (springForce + frictionForce) / mi\n",
    "        dx = vi\n",
    "        dv = totalForce\n",
    "        \n",
    "    return np.array([dx, dv], float)"
   ]
  },
  {
   "cell_type": "code",
   "execution_count": 94,
   "metadata": {
    "collapsed": true
   },
   "outputs": [],
   "source": [
    "blockPositions = [] # Array to contain random block positions\n",
    "blockMasses = [] # Array to contain random block masses\n",
    "testBlockPositions = [] #Test array with set block positions\n",
    "averageSpacing = 1 # Average spacing between blocks\n",
    "kp = 40 # Leaf spring constant\n",
    "kc = 250 # Spring constant between blocks\n",
    "averageMass = 1 # Average mass of blocks\n",
    "F0 = 50 # Static friction force\n",
    "v0 = 0.01 # Velocity of the top plate\n",
    "vBlock = 0 # Initial velocity of blocks\n",
    "vf = 3.0 # Friction coefficient\n",
    "blockNum = 25 # Number of blocks\n",
    "maxTimeSteps = 50000 # Total number of timesteps to be calculated\n",
    "minBLockV = 1e-8 # Velocity at which small timestep will kick in\n",
    "timeStepShort = 0.005 # More presice timestep\n",
    "timeStepLong = 1 # Less precice timestep\n",
    "variation = 0.001 # Variation in distance between blocks\n",
    "\n",
    "# Calculates inital block positions\n",
    "for n in range(0, blockNum + 1):\n",
    "    blockPositions.append(n * averageSpacing + (random.random() - 0.5) * 2 * variation)\n",
    "    blockMasses.append(averageMass * (random.random() * 1.5 + 0.5))\n",
    "    testBlockPositions.append(n)"
   ]
  },
  {
   "cell_type": "code",
   "execution_count": 95,
   "metadata": {
    "collapsed": true
   },
   "outputs": [],
   "source": [
    "# Calculates earthquake postition and velocity over the given time range\n",
    "earthquake = eulerCoupledAdaptive (blockMotionVaryingMasses, 2, blockPositions, vBlock, blockNum, timeStepLong,\\\n",
    "                           timeStepShort, maxTimeSteps, minBLockV, kp, kc, blockMasses, F0, v0, vf) \n",
    "\n",
    "# Sets up new array for plotting\n",
    "earthquakePlot = np.copy(earthquake)"
   ]
  },
  {
   "cell_type": "code",
   "execution_count": 110,
   "metadata": {},
   "outputs": [
    {
     "name": "stderr",
     "output_type": "stream",
     "text": [
      "C:\\Users\\adria\\Anaconda3\\lib\\site-packages\\ipykernel_launcher.py:2: RuntimeWarning: divide by zero encountered in log\n",
      "  \n"
     ]
    }
   ],
   "source": [
    "earthquakeMoments = countQuakes(earthquakePlot, blockNum, timeStepShort)\n",
    "earthquakeMagnitudes = list(map(np.log,earthquakeMoments))"
   ]
  },
  {
   "cell_type": "code",
   "execution_count": 112,
   "metadata": {},
   "outputs": [
    {
     "data": {
      "text/plain": [
       "Text(0,0.5,'Occurences')"
      ]
     },
     "execution_count": 112,
     "metadata": {},
     "output_type": "execute_result"
    },
    {
     "data": {
      "image/png": "[encoded data removed]",
      "text/plain": [
       "<matplotlib.figure.Figure at 0x22df62f5240>"
      ]
     },
     "metadata": {},
     "output_type": "display_data"
    }
   ],
   "source": [
    "bigMagnitudes, bigOccurences = countMagnitudes (earthquakeMagnitudes)\n",
    "print (bigOccurences)\n",
    "plt.plot(bigMagnitudes, bigOccurences, \"b o\")\n",
    "plt.title(\"Histogram of magnitude occurences\")\n",
    "plt.xlabel(\"Magnitude\")\n",
    "plt.ylabel(\"Occurences\")"
   ]
  },
  {
   "cell_type": "code",
   "execution_count": 22,
   "metadata": {
    "collapsed": true
   },
   "outputs": [],
   "source": [
    "if __name__ == \"__main__\":\n",
    "    import doctest\n",
    "    doctest.testmod()"
   ]
  }
 ],
 "metadata": {
  "kernelspec": {
   "display_name": "Python 3",
   "language": "python",
   "name": "python3"
  },
  "language_info": {
   "codemirror_mode": {
    "name": "ipython",
    "version": 3
   },
   "file_extension": ".py",
   "mimetype": "text/x-python",
   "name": "python",
   "nbconvert_exporter": "python",
   "pygments_lexer": "ipython3",
   "version": "3.6.3"
  }
 },
 "nbformat": 4,
 "nbformat_minor": 2
}
