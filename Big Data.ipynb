{
 "cells": [
  {
   "cell_type": "markdown",
   "metadata": {},
   "source": [
    "# Large Data Collection"
   ]
  },
  {
   "cell_type": "code",
   "execution_count": 13,
   "metadata": {},
   "outputs": [],
   "source": [
    "import pylab as plt\n",
    "import numpy as np\n",
    "import random\n",
    "%matplotlib inline"
   ]
  },
  {
   "cell_type": "code",
   "execution_count": 14,
   "metadata": {
    "collapsed": true
   },
   "outputs": [],
   "source": [
    "def friction (vi, vf, F0):\n",
    "    \"\"\"\n",
    "    Returs the friction of the bottom plate against blocks moving at a specific velocity\n",
    "    \n",
    "    Arguements: vi - initial velovity of the block\n",
    "                vf - final velocity of the block\n",
    "                F0 - the static friction force\n",
    "    \n",
    "    Returned: The force due to friction\n",
    "    \n",
    "    Examples:\n",
    "    \n",
    "    >>> friction (0, 1, 20)\n",
    "    -20.0\n",
    "    \n",
    "    >>> friction (1, 1, 20)\n",
    "    -10.0\n",
    "    \"\"\"\n",
    "    # Calculates sign of vi\n",
    "    if vi == 0:\n",
    "        sign = 1\n",
    "        \n",
    "    else:\n",
    "        sign = vi / abs(vi)\n",
    "        \n",
    "    force = -((F0) * sign / (1 + abs(vi/vf)))\n",
    "    return force"
   ]
  },
  {
   "cell_type": "code",
   "execution_count": 15,
   "metadata": {
    "collapsed": true
   },
   "outputs": [],
   "source": [
    "def blockMotion (t, blockPositions, vBlock, i, blockNum, kp, kc, mass, F0, v0, vf):\n",
    "    \"\"\"\n",
    "    Returns the differential equation that models the motion of the blocks\n",
    "    \n",
    "    Arguements: t - time\n",
    "                blockPositions - the posotions of the blocks\n",
    "                vBlock - the velocity of the block\n",
    "                i - the index of the current block\n",
    "                blockNum - the number of blocks\n",
    "                kp - spring constant of leaf springs\n",
    "                kc - spring constant of springs between blocks\n",
    "                mass - mass of individual block\n",
    "                F0 - the static friction force\n",
    "                v0 - initial velocoty of top plate\n",
    "                vf - the friction coefficient\n",
    "                \n",
    "    Returned: The differential equation modeling the motion of the individual blocks\n",
    "    \n",
    "    Examples:\n",
    "    \n",
    "    >>> blockMotion (0, (0, 1, 2, 3, 4), 0, 2, 5, 0, 0, 1, 0, 1, 20)\n",
    "    array([ 0.,  0.])\n",
    "    \n",
    "    \"\"\"\n",
    "    # Sets position and velocity of the block\n",
    "    xi = blockPositions[i]\n",
    "    vi = vBlock\n",
    "    \n",
    "    # Block motion for the first block, connected to a block one distance unit away\n",
    "    if i == 0:\n",
    "        xiM = xi - 1\n",
    "        xiP = blockPositions[i + 1]\n",
    "        totalForce = (kc*(xiP + xiM - 2 * xi) + kp * (v0 * t - xi + i) + friction (vi, vf, F0)) / mass\n",
    "    \n",
    "    # Block motion for the last block, connected to a block one distance unit away\n",
    "    elif i == blockNum - 1:\n",
    "        xiM = blockPositions[i - 1]\n",
    "        xiP = xi + 1\n",
    "        totalForce = (kc*(xiP + xiM - 2 * xi) + kp * (v0 * t - xi + i) + friction (vi, vf, F0)) / mass\n",
    "   \n",
    "    # Block motion for all the middle blocks, connected to their neighbors\n",
    "    else:\n",
    "        xiM = blockPositions[i - 1]\n",
    "        xiP = blockPositions[i + 1]\n",
    "        totalForce = (kc*(xiP + xiM - 2 * xi) + kp * (v0 * t - xi + i) + friction (vi, vf, F0)) / mass\n",
    "    \n",
    "    # If spring force is large enough to overpower friction, change velocity\n",
    "    if totalForce <= 0:\n",
    "        dv = -vi\n",
    "        vi = 0\n",
    "        dx = vi\n",
    "        \n",
    "    else: \n",
    "        dx = vi\n",
    "        dv = totalForce\n",
    "        \n",
    "    return np.array([dx, dv], float)"
   ]
  },
  {
   "cell_type": "code",
   "execution_count": 16,
   "metadata": {
    "collapsed": true
   },
   "outputs": [],
   "source": [
    "def eulerCoupled (f, n, blockPositions, vBlock, blockNum, interval, steps, *args):\n",
    "    \"\"\" \n",
    "    Solve a coupled system of ODEs by Euler method with fixed number of steps.\n",
    "\n",
    "    Arguements: f - function giving ODE as y'=f(x,y)\n",
    "                n - the number of ODEs\n",
    "                blockPositions - the array containging the initial block positions\n",
    "                vBlock - initial block velocity\n",
    "                blockNum - the number of blocks\n",
    "                interval - tuple region (a,b) on which to solve ODE\n",
    "                steps - number of steps\n",
    "    \n",
    "    Returned: An array containing the positions and velocies of the blocks over time\n",
    "    \"\"\"\n",
    "    \n",
    "    (a,b) = interval  # endpoints\n",
    "    h = (b-a)/steps  # step size\n",
    "    points = np.zeros((steps + 1, blockNum*2 + 1)) # array to contain all the block positions and velocities over time\n",
    "\n",
    "    # set up initial point\n",
    "    t = a    \n",
    "    points[0,0] = t\n",
    "    count = 0\n",
    "    \n",
    "    # Sets up first row of poitns\n",
    "    for l in range(1, blockNum + 1):\n",
    "        points[0,l] = blockPositions[count]   \n",
    "        count += 1\n",
    "    for m in range(blockNum + 1, blockNum * 2 + 1):\n",
    "        points[0,m] = vBlock\n",
    "\n",
    "    for k in range(1,steps+1): # Repeats for each timestep                   \n",
    "        t = t + h\n",
    "        points[k,0] = t\n",
    "        \n",
    "        for i in range(0, blockNum): # Repeats for each block\n",
    "            r = np.array([points[k-1, i + 1], points[k-1, i + 1 + blockNum]]) # Updates r from previous timestep\n",
    "\n",
    "            r_new = r + h * f(t, blockPositions, r[1], i, blockNum, *args) # Calculates new r\n",
    "            \n",
    "            r = r_new            \n",
    "            blockPositions[i] = r[0]\n",
    "\n",
    "            # Saves values to points\n",
    "            points[k,i + 1] = r[0]\n",
    "            points[k,i + 1 + blockNum] = r[1]\n",
    "\n",
    "\n",
    "    return points"
   ]
  },
  {
   "cell_type": "code",
   "execution_count": 17,
   "metadata": {
    "collapsed": true
   },
   "outputs": [],
   "source": [
    "def countQuakes (earthquakes, blockNum, i):\n",
    "    \"\"\"\n",
    "    Produces a list of each earthquake and its magnitude\n",
    "    \n",
    "    Arguements: earthquakes - the array containing all earthquake data\n",
    "                blockNum - the number of blocks\n",
    "                i - the block index to be examined\n",
    "                \n",
    "    Returned: a list containing the magnitude of each earthquake\n",
    "    \"\"\"\n",
    "    quakes = []\n",
    "    count = 0\n",
    "    while count < len(earthquakes):\n",
    "        if earthquakes[count, blockNum + i] > 1:\n",
    "            quakes.append(earthquakes[count + 500, i] - earthquakes[count - 500, i])\n",
    "            count += 500\n",
    "        count += 1\n",
    "        \n",
    "    return quakes"
   ]
  },
  {
   "cell_type": "code",
   "execution_count": 21,
   "metadata": {
    "collapsed": true
   },
   "outputs": [],
   "source": [
    "def countMagnitudes (magnitudes):\n",
    "    \"\"\"\n",
    "    Produces a list of the number of earthquakes that fall within a certain range of magnitudes\n",
    "    \n",
    "    Arguements: magnitudes - a list of magnitudes\n",
    "                \n",
    "    Returned: a list containing the number of occurences of each magnitude\n",
    "    \"\"\"\n",
    "    magValues = np.linspace(-7, 7, 57)\n",
    "    occurences = np.zeros(57, int)\n",
    "    \n",
    "    for i in range(0, len(magnitudes)):\n",
    "        count = 0\n",
    "        for n in magValues:\n",
    "            if magnitudes[i] >= n and magnitudes[i] < n + 0.25:\n",
    "                occurences[count] += 1\n",
    "            count += 1\n",
    "                \n",
    "    return magValues, occurences"
   ]
  },
  {
   "cell_type": "code",
   "execution_count": null,
   "metadata": {},
   "outputs": [],
   "source": [
    "blockPositions = [] # Array to contain random block positions\n",
    "testBlockPositions = [] #Test array with set block positions\n",
    "averageSpacing = 1 # Average spacing between blocks\n",
    "timeInterval = (0,500000)\n",
    "kp = 40 # Leaf spring constant\n",
    "kc = 250 # Spring constant between blocks\n",
    "mass = 1 # Mass of blocks\n",
    "F0 = 50 # Static friction force\n",
    "v0 = 0.01 # Velocity of the top plate\n",
    "vBlock = 0 # Initial velocity of blocks\n",
    "vf = 1.0 # Friction coefficient\n",
    "blockNum = 100 # Number of blocks\n",
    "timeSteps = 50000000\n",
    "variation = 0.001 # Variation in distance between blocks\n",
    "\n",
    "# Calculates inital block positions\n",
    "for n in range(0, blockNum + 1):\n",
    "    blockPositions.append(n * averageSpacing + (random.random() - 0.5) * 2 * variation)\n",
    "    testBlockPositions.append(n)\n",
    "\n",
    "earthquake = eulerCoupled (blockMotion, 2, blockPositions, vBlock, blockNum, timeInterval, timeSteps,\\\n",
    "                            kp, kc, mass, F0, v0, vf)"
   ]
  },
  {
   "cell_type": "code",
   "execution_count": 26,
   "metadata": {},
   "outputs": [
    {
     "ename": "MemoryError",
     "evalue": "",
     "output_type": "error",
     "traceback": [
      "\u001b[0;31m---------------------------------------------------------------------------\u001b[0m",
      "\u001b[0;31mMemoryError\u001b[0m                               Traceback (most recent call last)",
      "\u001b[0;32m<ipython-input-26-77f8d69c5def>\u001b[0m in \u001b[0;36m<module>\u001b[0;34m()\u001b[0m\n\u001b[0;32m----> 1\u001b[0;31m \u001b[0mearthquakePlot\u001b[0m \u001b[1;33m=\u001b[0m \u001b[0mnp\u001b[0m\u001b[1;33m.\u001b[0m\u001b[0mcopy\u001b[0m\u001b[1;33m(\u001b[0m\u001b[0mearthquake\u001b[0m\u001b[1;33m)\u001b[0m\u001b[1;33m\u001b[0m\u001b[0m\n\u001b[0m\u001b[1;32m      2\u001b[0m \u001b[1;33m\u001b[0m\u001b[0m\n\u001b[1;32m      3\u001b[0m \u001b[1;31m# Normalizes block positions relative to their equilibrium positions\u001b[0m\u001b[1;33m\u001b[0m\u001b[1;33m\u001b[0m\u001b[0m\n\u001b[1;32m      4\u001b[0m \u001b[1;32mfor\u001b[0m \u001b[0mn\u001b[0m \u001b[1;32min\u001b[0m \u001b[0mrange\u001b[0m\u001b[1;33m(\u001b[0m\u001b[1;36m1\u001b[0m\u001b[1;33m,\u001b[0m \u001b[0mblockNum\u001b[0m \u001b[1;33m+\u001b[0m \u001b[1;36m1\u001b[0m\u001b[1;33m)\u001b[0m\u001b[1;33m:\u001b[0m\u001b[1;33m\u001b[0m\u001b[0m\n\u001b[1;32m      5\u001b[0m     \u001b[1;32mfor\u001b[0m \u001b[0mm\u001b[0m \u001b[1;32min\u001b[0m \u001b[0mrange\u001b[0m\u001b[1;33m(\u001b[0m\u001b[1;36m0\u001b[0m\u001b[1;33m,\u001b[0m \u001b[0mtimeSteps\u001b[0m \u001b[1;33m+\u001b[0m \u001b[1;36m1\u001b[0m\u001b[1;33m)\u001b[0m\u001b[1;33m:\u001b[0m\u001b[1;33m\u001b[0m\u001b[0m\n",
      "\u001b[0;32mC:\\Users\\workshop\\Anaconda3\\lib\\site-packages\\numpy\\lib\\function_base.py\u001b[0m in \u001b[0;36mcopy\u001b[0;34m(a, order)\u001b[0m\n\u001b[1;32m    879\u001b[0m \u001b[1;33m\u001b[0m\u001b[0m\n\u001b[1;32m    880\u001b[0m     \"\"\"\n\u001b[0;32m--> 881\u001b[0;31m     \u001b[1;32mreturn\u001b[0m \u001b[0marray\u001b[0m\u001b[1;33m(\u001b[0m\u001b[0ma\u001b[0m\u001b[1;33m,\u001b[0m \u001b[0morder\u001b[0m\u001b[1;33m=\u001b[0m\u001b[0morder\u001b[0m\u001b[1;33m,\u001b[0m \u001b[0mcopy\u001b[0m\u001b[1;33m=\u001b[0m\u001b[1;32mTrue\u001b[0m\u001b[1;33m)\u001b[0m\u001b[1;33m\u001b[0m\u001b[0m\n\u001b[0m\u001b[1;32m    882\u001b[0m \u001b[1;33m\u001b[0m\u001b[0m\n\u001b[1;32m    883\u001b[0m \u001b[1;31m# Basic operations\u001b[0m\u001b[1;33m\u001b[0m\u001b[1;33m\u001b[0m\u001b[0m\n",
      "\u001b[0;31mMemoryError\u001b[0m: "
     ]
    }
   ],
   "source": [
    "earthquakePlot = np.copy(earthquake)\n",
    "\n",
    "# Normalizes block positions relative to their equilibrium positions\n",
    "for n in range(1, blockNum + 1):\n",
    "    for m in range(0, timeSteps + 1):\n",
    "        earthquakePlot[m,n] += -n + 1\n",
    "    \n",
    "plt.figure(figsize = (15,5))\n",
    "\n",
    "# Plots all of the block positions on the same plot\n",
    "plt.subplot(121)\n",
    "for i in range (1, blockNum + 1):\n",
    "    plt.plot(earthquakePlot[:,0], earthquakePlot[:, i])\n",
    "plt.xlabel(\"Time\")\n",
    "plt.ylabel(\"Block Position\")\n",
    "plt.title(\"Position of Block Over Time\")\n",
    "\n",
    "# Plots all of the block velocities on the same plot\n",
    "plt.subplot(122)\n",
    "for i in range (0, blockNum):\n",
    "    plt.plot(earthquakePlot[:,0], earthquakePlot[:, blockNum + i + 1])\n",
    "plt.xlabel(\"Time\")\n",
    "plt.ylabel(\"Block Velocity\")\n",
    "plt.title(\"Velocity of Block Over Time\")"
   ]
  },
  {
   "cell_type": "code",
   "execution_count": null,
   "metadata": {
    "collapsed": true
   },
   "outputs": [],
   "source": [
    "earthquakeMoments = countQuakes(earthquakePlot, blockNum, 50)\n",
    "earthquakeMagnitudes = list(map(np.log,earthquakeMoments))"
   ]
  },
  {
   "cell_type": "code",
   "execution_count": null,
   "metadata": {
    "collapsed": true
   },
   "outputs": [],
   "source": [
    "plt.plot(earthquakeMagnitudes, \"b o\")\n",
    "plt.title(\"Earthquake Magnitudes\")\n",
    "plt.xlabel(\"Earthquake Number\")\n",
    "plt.ylabel(\"Earthquake Magnitude\")\n",
    "plt.show()"
   ]
  },
  {
   "cell_type": "code",
   "execution_count": null,
   "metadata": {
    "collapsed": true
   },
   "outputs": [],
   "source": [
    "bigMagnitudes, bigOccurences = countMagnitudes (earthquakeMagnitudes)\n",
    "plt.plot(bigMagnitudes, bigOccurences, \"b o\")"
   ]
  }
 ],
 "metadata": {
  "kernelspec": {
   "display_name": "Python 3",
   "language": "python",
   "name": "python3"
  },
  "language_info": {
   "codemirror_mode": {
    "name": "ipython",
    "version": 3
   },
   "file_extension": ".py",
   "mimetype": "text/x-python",
   "name": "python",
   "nbconvert_exporter": "python",
   "pygments_lexer": "ipython3",
   "version": "3.4.5"
  }
 },
 "nbformat": 4,
 "nbformat_minor": 2
}
