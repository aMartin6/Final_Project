{
 "cells": [
  {
   "cell_type": "markdown",
   "metadata": {},
   "source": [
    "# Earthquakes and Self-Organized Criticality"
   ]
  },
  {
   "cell_type": "markdown",
   "metadata": {},
   "source": [
    "## Introduction\n",
    "\n",
    "The earth's crust is made of up plates that are separated by fault lines. Over time, these plates slowly deform, and build up potential energy until they shift all at once. This is an earthquake, and it is very hard to predict exactly when it will happen. The size of an earthquake is measured using the Richter scale. It is a logarithmic scale that representing the amount one plate shifts relative to another. We use a logarithmic scale, because it there are a wide range of magnitudes, and small earthquakes are more common than large ones. The Gutenberg-Richter law states the probability of an earthquake of a certain magnitude happening:\n",
    "\n",
    "\\begin{equation*}    \n",
    "P (M) = Ae^{-bM}\n",
    "\\end{equation*}\n",
    "\n",
    "Where M is the magnitude. Power law distributions like this are rare, and they suggest that the earth must be at a certain critical point in density and temperature in order for earthquakes to happen $^{[1]}$. The tendency for the earth to be shifted towards this critical point as a result of the earthquake phenomena is called self-organized criticality (SOC). Scientists disagree on whether the earth's crust is in a state of SOC. If it is, then all earthquakes have an equally likely chance of being catastrophic. There is evidence to suggest that this is not the case. For example, the majority of large earthquakes are preceded by a buildup of intermediate events $^{[2]}$. \n",
    "\n",
    "To understand the basic behavior of earthquakes, we can use a model that contains a series of blocks and springs in between two plates on the top and bottom. These represent two of the earth's adjacent plates that slide past each other. The top plate moves at a steady and slow velocity, and it is connected to each block by a leaf spring. As a result, the leaf springs will slowly build up tension until a block moves causing other blocks to move. This is an earthquake. In this model, the friction force between the bottom plate and the blocks decreases as the velocity of the block increases $^{[1]}$.\n",
    "\n",
    "![image.png](Spring Force Diagram.png)\n"
   ]
  },
  {
   "cell_type": "markdown",
   "metadata": {},
   "source": [
    "## Model\n",
    "\n",
    "The equations that model the spring force on the blocks $^{[1]}$:  \n",
    "* Spring force on block from neighboring blocks:\n",
    "    \n",
    "\\begin{equation*}    \n",
    "F_b = -k_c(x_i - x_{i+1}) - k_c(x_i - x_{i-1}) \n",
    "\\end{equation*}\n",
    "\n",
    "* Force of a leaf spring from the top plate on block: \n",
    "\n",
    "\\begin{equation*}    \n",
    "F_l = -k_p(x_i - v_0 t)\n",
    "\\end{equation*} \n",
    "    \n",
    "* Friction force due to bottom plate: \n",
    "\n",
    "\\begin{equation*}\n",
    "F_f = -\\frac{F_0 sin(v_i)}{1 + |v_i / v_f|}\n",
    "\\end{equation*}\n",
    "\n",
    "Overall differential equation of motion:  \n",
    "* This equation combines the above equations into one differential equation relating the position of block i to the total force acting on it.\n",
    "\n",
    "\\begin{equation*}\n",
    "m_i \\frac{d^2 x_i}{dt^2} = k_c(x_{i+1} + x_{i-1} - 2x_i) + k_p(v_0 t - x_i) + F_f\n",
    "\\end{equation*}\n",
    "\n",
    "* If we break this up, we have: \n",
    "\n",
    "\\begin{equation*}    \n",
    "\\frac{dx_i}{dt} = v_i \\space\\space and \\space\\space m_i \\frac{d v_i}{dt} = k_c(x_{i+1} + x_{i-1} - 2x_i) + k_p(v_0 t - x_i) + F_f\n",
    "\\end{equation*}\n",
    "\n",
    "Where for each block:  \n",
    "$F_b$ is force from neighboring block  \n",
    "$F_l$ is the force from the leaf spring  \n",
    "$F_f$ is the friction force from the bottom plate  \n",
    "$k_c$ is the spring constant of springs between blocks  \n",
    "$k_l$ is the spring constant of the leaf springs  \n",
    "$x_i$ is the position of block i  \n",
    "$v_i$ is the velocity of block i  \n",
    "$m_i$ is the mass of block i  \n",
    "$V_0$ is the static friction force  \n",
    "$V_f$ is the friction coefficient that determines how friction relates to velocity"
   ]
  },
  {
   "cell_type": "markdown",
   "metadata": {},
   "source": [
    "## Numerical Methods"
   ]
  },
  {
   "cell_type": "code",
   "execution_count": 1,
   "metadata": {
    "collapsed": true
   },
   "outputs": [],
   "source": [
    "import pylab as plt\n",
    "import numpy as np\n",
    "import random\n",
    "%matplotlib inline"
   ]
  },
  {
   "cell_type": "code",
   "execution_count": 109,
   "metadata": {
    "collapsed": true
   },
   "outputs": [],
   "source": [
    "def friction (vi, vf, F0):\n",
    "    \"\"\"\n",
    "    Returns the friction of the bottom plate against blocks moving at a specific velocity\n",
    "    \n",
    "    Arguments:  vi - initial velocity of the block\n",
    "                vf - final velocity of the block\n",
    "                F0 - the static friction force\n",
    "    \n",
    "    Returned: The force due to friction\n",
    "    \n",
    "    Examples:\n",
    "    \n",
    "    >>> friction (0, 1, 20)\n",
    "    -20.0\n",
    "    \n",
    "    >>> friction (1, 1, 20)\n",
    "    -10.0\n",
    "    \"\"\"\n",
    "    # Calculates sign of vi\n",
    "    if vi == 0:\n",
    "        sign = 1\n",
    "        \n",
    "    else:\n",
    "        sign = vi / abs(vi)\n",
    "        \n",
    "    force = -((F0) * sign / (1 + abs(vi/vf)))\n",
    "    return force"
   ]
  },
  {
   "cell_type": "code",
   "execution_count": 3,
   "metadata": {
    "collapsed": true
   },
   "outputs": [],
   "source": [
    "def blockMotion (t, blockPositions, vBlock, i, blockNum, kp, kc, mass, F0, v0, vf):\n",
    "    \"\"\"\n",
    "    Returns the differential equation that models the motion of the blocks\n",
    "    \n",
    "    Arguments:  t - time\n",
    "                blockPositions - the positions of the blocks\n",
    "                vBlock - the velocity of the block\n",
    "                i - the index of the current block\n",
    "                blockNum - the number of blocks\n",
    "                kp - spring constant of leaf springs\n",
    "                kc - spring constant of springs between blocks\n",
    "                mass - mass of individual block\n",
    "                F0 - the static friction force\n",
    "                v0 - initial velocity of top plate\n",
    "                vf - the friction coefficient\n",
    "                \n",
    "    Returned: The differential equation modeling the motion of the individual blocks\n",
    "    \n",
    "    Examples:\n",
    "    \n",
    "    >>> blockMotion (0, (0, 1, 2, 3, 4), 0, 2, 5, 0, 0, 1, 0, 1, 20)\n",
    "    array([ 0.,  0.])\n",
    "    \n",
    "    \"\"\"\n",
    "    # Sets position and velocity of the block\n",
    "    xi = blockPositions[i]\n",
    "    vi = vBlock\n",
    "    \n",
    "    # Block motion for the first block, connected to a block one distance unit away\n",
    "    if i == 0:\n",
    "        # xiM = xi - 1\n",
    "        xiP = blockPositions[i + 1]\n",
    "        totalForce = (kc*(xiP - xi) + kp * (v0 * t - xi + i) + friction (vi, vf, F0)) / mass\n",
    "    \n",
    "    # Block motion for the last block, connected to a block one distance unit away\n",
    "    elif i == blockNum - 1:\n",
    "        xiM = blockPositions[i - 1]\n",
    "        #xiP = xi + 1\n",
    "        totalForce = (kc*(xiM - xi) + kp * (v0 * t - xi + i) + friction (vi, vf, F0)) / mass\n",
    "   \n",
    "    # Block motion for all the middle blocks, connected to their neighbors\n",
    "    else:\n",
    "        xiM = blockPositions[i - 1]\n",
    "        xiP = blockPositions[i + 1]\n",
    "        totalForce = (kc*(xiP + xiM - 2 * xi) + kp * (v0 * t - xi + i) + friction (vi, vf, F0)) / mass\n",
    "    \n",
    "    # If spring force is large enough to overpower friction, change velocity\n",
    "    if totalForce <= 0:\n",
    "        dv = -vi\n",
    "        vi = 0\n",
    "        dx = vi\n",
    "        \n",
    "    else: \n",
    "        dx = vi\n",
    "        dv = totalForce\n",
    "        \n",
    "    return np.array([dx, dv], float)"
   ]
  },
  {
   "cell_type": "code",
   "execution_count": 4,
   "metadata": {
    "collapsed": true
   },
   "outputs": [],
   "source": [
    "def eulerCoupledAdaptive (f, n, blockPositions, vBlock, blockNum, h1, h2, maxPoints, minBlockV, *args, verbose = False):\n",
    "    \"\"\" \n",
    "    Solve a coupled system of ODEs by Euler method with fixed number of steps.\n",
    "\n",
    "    Arguements: f - function giving ODE as y'=f(x,y)\n",
    "                n - the number of ODEs\n",
    "                blockPositions - the array containging the initial block positions\n",
    "                vBlock - initial block velocity\n",
    "                blockNum - the number of blocks\n",
    "                interval - tuple region (a,b) on which to solve ODE\n",
    "                steps - number of steps\n",
    "    \n",
    "    Returned: An array containing the positions and velocies of the blocks over time\n",
    "    \"\"\"\n",
    "    \n",
    "    points = np.zeros((maxPoints, blockNum*2 + 1)) # array to contain all the block positions and velocities over time\n",
    "\n",
    "    # set up initial point\n",
    "    t = 0\n",
    "    points[0,0] = t\n",
    "    count = 0\n",
    "    \n",
    "    # Sets up first row of poitns\n",
    "    for l in range(1, blockNum + 1):\n",
    "        points[0,l] = blockPositions[count]   \n",
    "        count += 1\n",
    "    for m in range(blockNum + 1, blockNum * 2 + 1):\n",
    "        points[0,m] = vBlock\n",
    "    \n",
    "    # initializes count, dv and r\n",
    "    count = 1\n",
    "    dv = 0\n",
    "    r = (0,0)\n",
    "    \n",
    "    while points[maxPoints - 1, 0] == 0: # Repeats until points array is filled up                   \n",
    "        \n",
    "        # Proceeds if none of the blocks are moving\n",
    "        if dv < minBlockV:\n",
    "            h = h1 # Long timestep\n",
    "            \n",
    "            # Repeats Euler calculation until one of the blocks moves or points is full\n",
    "            while dv < minBlockV and points[maxPoints - 1, 0] == 0:\n",
    "                \n",
    "                if verbose == True:\n",
    "                    print(\"h1:\", t)\n",
    "                \n",
    "                # Saves block positions and updates timestep\n",
    "                oldBlockPositions = blockPositions\n",
    "                t = t + h\n",
    "                points[count,0] = t\n",
    "                dv = 0\n",
    "                \n",
    "                # Repeats Euler calculation for each block\n",
    "                for i in range(0, blockNum): \n",
    "\n",
    "                    r = np.array([points[count-1, i + 1], points[count-1, i + 1 + blockNum]]) # Updates r from previous timestep\n",
    "\n",
    "                    r_new = r + h * f(t, blockPositions, r[1], i, blockNum, *args) # Calculates new r\n",
    "\n",
    "                    r = r_new \n",
    "                    blockPositions[i] = r[0]\n",
    "                    \n",
    "                    # Updates dv\n",
    "                    if r[1] > dv:\n",
    "                        dv = r[1]\n",
    "                        \n",
    "                    if verbose == True:\n",
    "                        print(i, blockPositions[i], r[1], dv)\n",
    "                        \n",
    "                    # Saves values to points\n",
    "                    points[count,i + 1] = r[0]\n",
    "                    points[count,i + 1 + blockNum] = r[1]\n",
    "\n",
    "                count += 1\n",
    "                \n",
    "        # Proceeds if any of the blocks are moving        \n",
    "        elif points[maxPoints - 1, 0] == 0:\n",
    "            # Resets to previous timestep\n",
    "            h = h2 # Short timestep\n",
    "            t -= h1\n",
    "            count -= 1\n",
    "            blockPositions = oldBlockPositions\n",
    "            dv = 0\n",
    "\n",
    "            # Repeats Euler calculation until one of the blocks moves or points is full\n",
    "            # This is necessary, because the timestep was reset, so dv will still be zero\n",
    "            while dv < minBlockV and points[maxPoints - 1, 0] == 0: \n",
    "                \n",
    "                if verbose == True:\n",
    "                    print(\"h2:\", t)\n",
    "                \n",
    "                # Saves block positions and updates timestep                \n",
    "                oldBlockPositions = blockPositions\n",
    "                t = t + h\n",
    "                points[count,0] = t\n",
    "                dv = 0\n",
    "\n",
    "                # Repeats Euler calculation for each block                \n",
    "                for i in range(0, blockNum):\n",
    "\n",
    "                    r = np.array([points[count-1, i + 1], points[count-1, i + 1 + blockNum]]) # Updates r from previous timestep\n",
    "\n",
    "                    r_new = r + h * f(t, blockPositions, r[1], i, blockNum, *args) # Calculates new r\n",
    "\n",
    "                    r = r_new            \n",
    "                    blockPositions[i] = r[0]\n",
    "                    \n",
    "                    # Updates dv\n",
    "                    if r[1] > dv:\n",
    "                        dv = r[1]\n",
    "\n",
    "                    if verbose == True:\n",
    "                        print(i, blockPositions[i], r[1], dv)\n",
    "                        \n",
    "                    # Saves values to points\n",
    "                    points[count,i + 1] = r[0]\n",
    "                    points[count,i + 1 + blockNum] = r[1]\n",
    "\n",
    "                count += 1\n",
    "\n",
    "            # Repeats Euler calculation until all of the blocks are still or points is full                \n",
    "            while dv >= minBlockV and points[maxPoints - 1, 0] == 0: \n",
    "                \n",
    "                if verbose == True:\n",
    "                    print(\"h2:\", t)\n",
    "                \n",
    "                # Saves block positions and updates timestep\n",
    "                oldBlockPositions = blockPositions\n",
    "                t = t + h\n",
    "                points[count,0] = t\n",
    "                dv = 0\n",
    "\n",
    "                # Repeats Euler calculation for each block  \n",
    "                for i in range(0, blockNum):\n",
    "\n",
    "                    r = np.array([points[count-1, i + 1], points[count-1, i + 1 + blockNum]]) # Updates r from previous timestep\n",
    "\n",
    "                    r_new = r + h * f(t, blockPositions, r[1], i, blockNum, *args) # Calculates new r\n",
    "\n",
    "                    r = r_new            \n",
    "                    blockPositions[i] = r[0]\n",
    "                    \n",
    "                    # Updates dv\n",
    "                    if r[1] > dv:\n",
    "                        dv = r[1]\n",
    "\n",
    "                    if verbose == True:\n",
    "                        print(i, blockPositions[i], r[1], dv)\n",
    "                        \n",
    "                    # Saves values to points\n",
    "                    points[count,i + 1] = r[0]\n",
    "                    points[count,i + 1 + blockNum] = r[1]\n",
    "\n",
    "                count += 1\n",
    "\n",
    "    return points"
   ]
  },
  {
   "cell_type": "code",
   "execution_count": 43,
   "metadata": {
    "collapsed": true
   },
   "outputs": [],
   "source": [
    "def countQuakes (earthquakes, blockNum, timeStep):\n",
    "    \"\"\"\n",
    "    Produces a list of each earthquake and its magnitude\n",
    "    \n",
    "    Arguments:  earthquakes - the array containing all earthquake data\n",
    "                blockNum - the number of blocks\n",
    "                i - the block index to be examined\n",
    "                \n",
    "    Returned: a list containing the magnitude of each earthquake\n",
    "    \"\"\"    \n",
    "    quakes = []\n",
    "    count = 0\n",
    "    quakeNum = -1\n",
    "    \n",
    "    # Repeats for each row of earthquakes\n",
    "    while count < len(earthquakes):\n",
    "        \n",
    "        # Determines if any of the blocks are moving\n",
    "        dv = 0\n",
    "        for i in range (0, blockNum):\n",
    "            if dv < earthquakes[count, blockNum + i + 1]:\n",
    "                dv = earthquakes[count, blockNum + i + 1]\n",
    "        \n",
    "        # If any of the blocks are moving add an earthquake\n",
    "        if dv > 0.001:\n",
    "            quakeNum += 1\n",
    "            quakes.append(0)\n",
    "            \n",
    "        # Add the motion from all the blocks until the earthquake stops\n",
    "        while dv > 0.001 and count < len(earthquakes) - 1:\n",
    "            \n",
    "            for i in range (0, blockNum):\n",
    "                quakes[quakeNum] += earthquakes[count, blockNum + i + 1] * timeStep\n",
    "            \n",
    "            # Incriments count and recalculates dv\n",
    "            count += 1            \n",
    "            dv = 0\n",
    "            for i in range (0, blockNum):\n",
    "                if dv < earthquakes[count, blockNum + i + 1]:\n",
    "                    dv = earthquakes[count, blockNum + i + 1]\n",
    "    \n",
    "        else:\n",
    "            count += 1\n",
    "        \n",
    "    return quakes"
   ]
  },
  {
   "cell_type": "code",
   "execution_count": 6,
   "metadata": {
    "collapsed": true
   },
   "outputs": [],
   "source": [
    "def countMagnitudes (magnitudes):\n",
    "    \"\"\"\n",
    "    Produces a list of the number of earthquakes that fall within a certain range of magnitudes\n",
    "    \n",
    "    Arguments: magnitudes - a list of magnitudes\n",
    "                \n",
    "    Returned: a list containing the number of occurrences of each magnitude\n",
    "    \"\"\"\n",
    "    magValues = np.linspace(-7, 7, 57)\n",
    "    occurences = np.zeros(57, int)\n",
    "    \n",
    "    for i in range(0, len(magnitudes)):\n",
    "        count = 0\n",
    "        for n in magValues:\n",
    "            if magnitudes[i] >= n and magnitudes[i] < n + 0.25:\n",
    "                occurences[count] += 1\n",
    "            count += 1\n",
    "                \n",
    "    return magValues, occurences"
   ]
  },
  {
   "cell_type": "markdown",
   "metadata": {},
   "source": [
    "## Example of Small Earthquake Model"
   ]
  },
  {
   "cell_type": "code",
   "execution_count": 133,
   "metadata": {
    "collapsed": true
   },
   "outputs": [],
   "source": [
    "blockPositions = [] # Array to contain random block positions\n",
    "testBlockPositions = [] #Test array with set block positions\n",
    "averageSpacing = 1 # Average spacing between blocks\n",
    "kp = 40 # Leaf spring constant\n",
    "kc = 100 # Spring constant between blocks\n",
    "mass = 1 # Mass of blocks\n",
    "F0 = 50 # Static friction force\n",
    "v0 = 0.01 # Velocity of the top plate\n",
    "vBlock = 0 # Initial velocity of blocks\n",
    "vf = 1.0 # Friction coefficient\n",
    "blockNum = 25 # Number of blocks\n",
    "maxTimeSteps = 20000 # Total number of timesteps to be calculated\n",
    "minBLockV = 1e-8 # Velocity at which small timestep will kick in\n",
    "timeStepShort = 0.005 # More presice timestep\n",
    "timeStepLong = 1 # Less precice timestep\n",
    "variation = 0.001 # Variation in distance between blocks\n",
    "\n",
    "# Calculates inital block positions\n",
    "for n in range(0, blockNum + 1):\n",
    "    blockPositions.append(n * averageSpacing + (random.random() - 0.5) * 2 * variation)\n",
    "    testBlockPositions.append(n)"
   ]
  },
  {
   "cell_type": "code",
   "execution_count": 134,
   "metadata": {
    "collapsed": true
   },
   "outputs": [],
   "source": [
    "# Calculates earthquake postition and velocity over the given time range\n",
    "earthquake = eulerCoupledAdaptive (blockMotion, 2, blockPositions, vBlock, blockNum, timeStepLong,\\\n",
    "                           timeStepShort, maxTimeSteps, minBLockV, kp, kc, mass, F0, v0, vf)"
   ]
  },
  {
   "cell_type": "code",
   "execution_count": 135,
   "metadata": {},
   "outputs": [
    {
     "data": {
      "text/plain": [
       "Text(0.5,1,'Velocity of Block Over Time')"
      ]
     },
     "execution_count": 135,
     "metadata": {},
     "output_type": "execute_result"
    },
    {
     "data": {
      "image/png": "[encoded data removed]",
      "text/plain": [
       "<matplotlib.figure.Figure at 0x2a9dc30e438>"
      ]
     },
     "metadata": {},
     "output_type": "display_data"
    }
   ],
   "source": [
    "# Sets up new array for plotting\n",
    "earthquakePlot = np.copy(earthquake)\n",
    "\n",
    "# Normalizes block positions relative to their equilibrium positions\n",
    "for n in range(1, blockNum + 1):\n",
    "    for m in range(0, maxTimeSteps):\n",
    "        earthquakePlot[m,n] += -n + 1\n",
    "    \n",
    "plt.figure(figsize = (15,5))\n",
    "\n",
    "# Plots all of the block positions on the same plot\n",
    "plt.subplot(121)\n",
    "for i in range (1, blockNum + 1):\n",
    "    plt.plot(earthquakePlot[:, 0], earthquakePlot[:, i])\n",
    "plt.xlabel(\"Time\")\n",
    "plt.ylabel(\"Block Position\")\n",
    "plt.title(\"Position of Block Over Time\")\n",
    "\n",
    "# Plots all of the block velocities on the same plot\n",
    "plt.subplot(122)\n",
    "for i in range (0, blockNum):\n",
    "    plt.plot(earthquakePlot[:,0], earthquakePlot[:, blockNum + i + 1])\n",
    "plt.xlabel(\"Time\")\n",
    "plt.ylabel(\"Block Velocity\")\n",
    "plt.title(\"Velocity of Block Over Time\")"
   ]
  },
  {
   "cell_type": "markdown",
   "metadata": {},
   "source": [
    "These plots depict the change in position and velocity over a time span of 500 time units of the series of blocks described above. In this example, there are 25 blocks with random spacing within a variation of 0.001 distance units. They are connected by springs with a kc value of 250. Each block's motion is plotted individually with its own color, and its position shown is relative to its equilibrium position.  \n",
    "\n",
    "The left plot depicts the position of the blocks over time. This shows that the blocks roughly move in sync with each other, but not perfectly. Each time the position increases sharply, an earthquake has happened, and the distance the blocks move is correlated to the magnitude of the event. Because the positions of the blocks was varied slightly, the time at which each event happens, and its magnitude also varies.  \n",
    "\n",
    "The right plot depicts the velocity of the blocks over time. This matches the derivative of the position plot, and shows that the blocks roughly accelerate and decelerate at the same time, but not precisely, and this slight variation is consistent with what we would expect from a natural system."
   ]
  },
  {
   "cell_type": "code",
   "execution_count": 136,
   "metadata": {},
   "outputs": [
    {
     "name": "stdout",
     "output_type": "stream",
     "text": [
      "[14.078462712077963, 1.8547584422160586, 1.8525385435741686, 106.34624875211426, 179.67051778116897, 3.012081239771125]\n"
     ]
    }
   ],
   "source": [
    "earthquakeMoments = countQuakes(earthquakePlot, blockNum, timeStepShort)\n",
    "earthquakeMagnitudes = list(map(np.log,earthquakeMoments))\n",
    "print (earthquakeMoments)"
   ]
  },
  {
   "cell_type": "code",
   "execution_count": 137,
   "metadata": {},
   "outputs": [
    {
     "data": {
      "image/png": "[encoded data removed]",
      "text/plain": [
       "<matplotlib.figure.Figure at 0x2aa150ba3c8>"
      ]
     },
     "metadata": {},
     "output_type": "display_data"
    }
   ],
   "source": [
    "plt.plot(earthquakeMagnitudes, \"b o\")\n",
    "plt.title(\"Earthquake Magnitudes\")\n",
    "plt.xlabel(\"Earthquake Number\")\n",
    "plt.ylabel(\"Earthquake Magnitude\")\n",
    "plt.xlim(-1,5)\n",
    "plt.show()"
   ]
  },
  {
   "cell_type": "markdown",
   "metadata": {},
   "source": [
    "This is an example of a scatter plot that represents the magnitude of each earthquake that occurred during the above timeframe, in the order that they occurred. Each magnitude was calculated by taking the logarithm of the distance a certain block moved. In this case, I used a single block located towards the center to give an approximation of the magnitude of the overall earthquake."
   ]
  },
  {
   "cell_type": "markdown",
   "metadata": {},
   "source": [
    "## Example of Larger Earthquake Model"
   ]
  },
  {
   "cell_type": "code",
   "execution_count": 140,
   "metadata": {
    "collapsed": true
   },
   "outputs": [],
   "source": [
    "blockPositions = [] # Array to contain random block positions\n",
    "testBlockPositions = [] #Test array with set block positions\n",
    "averageSpacing = 1 # Average spacing between blocks\n",
    "kp = 40 # Leaf spring constant\n",
    "kc = 100 # Spring constant between blocks\n",
    "mass = 1 # Mass of blocks\n",
    "F0 = 50 # Static friction force\n",
    "v0 = 0.01 # Velocity of the top plate\n",
    "vBlock = 0 # Initial velocity of blocks\n",
    "vf = 1.0 # Friction coefficient\n",
    "blockNum = 100 # Number of blocks\n",
    "maxTimeSteps = 200000 # Total number of timesteps to be calculated\n",
    "minBLockV = 1e-8 # Velocity at which small timestep will kick in\n",
    "timeStepShort = 0.005 # More presice timestep\n",
    "timeStepLong = 1 # Less precice timestep\n",
    "variation = 0.001 # Variation in distance between blocks\n",
    "\n",
    "# Calculates inital block positions\n",
    "for n in range(0, blockNum + 1):\n",
    "    blockPositions.append(n * averageSpacing + (random.random() - 0.5) * 2 * variation)\n",
    "    testBlockPositions.append(n)"
   ]
  },
  {
   "cell_type": "code",
   "execution_count": 141,
   "metadata": {},
   "outputs": [],
   "source": [
    "# Calculates earthquake postition and velocity over the given time range\n",
    "earthquake = eulerCoupledAdaptive (blockMotion, 2, blockPositions, vBlock, blockNum, timeStepLong,\\\n",
    "                           timeStepShort, maxTimeSteps, minBLockV, kp, kc, mass, F0, v0, vf)"
   ]
  },
  {
   "cell_type": "code",
   "execution_count": 142,
   "metadata": {},
   "outputs": [
    {
     "data": {
      "text/plain": [
       "Text(0.5,1,'Velocity of Block Over Time')"
      ]
     },
     "execution_count": 142,
     "metadata": {},
     "output_type": "execute_result"
    },
    {
     "data": {
      "image/png": "[encoded data removed]",
      "text/plain": [
       "<matplotlib.figure.Figure at 0x2aa152521d0>"
      ]
     },
     "metadata": {},
     "output_type": "display_data"
    }
   ],
   "source": [
    "# Sets up new array for plotting\n",
    "earthquakePlot = np.copy(earthquake)\n",
    "\n",
    "# Normalizes block positions relative to their equilibrium positions\n",
    "for n in range(1, blockNum + 1):\n",
    "    for m in range(0, maxTimeSteps):\n",
    "        earthquakePlot[m,n] += -n + 1\n",
    "    \n",
    "plt.figure(figsize = (15,5))\n",
    "\n",
    "# Plots all of the block positions on the same plot\n",
    "plt.subplot(121)\n",
    "for i in range (1, blockNum + 1):\n",
    "    plt.plot(earthquakePlot[:, 0], earthquakePlot[:, i])\n",
    "plt.xlabel(\"Time\")\n",
    "plt.ylabel(\"Block Position\")\n",
    "plt.title(\"Position of Block Over Time\")\n",
    "\n",
    "# Plots all of the block velocities on the same plot\n",
    "plt.subplot(122)\n",
    "for i in range (0, blockNum):\n",
    "    plt.plot(earthquakePlot[:,0], earthquakePlot[:, blockNum + i + 1])\n",
    "plt.xlabel(\"Time\")\n",
    "plt.ylabel(\"Block Velocity\")\n",
    "plt.title(\"Velocity of Block Over Time\")"
   ]
  },
  {
   "cell_type": "markdown",
   "metadata": {
    "collapsed": true
   },
   "source": [
    "This plot is the same as the one above, except the time interval has been expanded to 10000, and there are 100 block represented instead of 25.\n",
    "\n",
    "It is difficult to see the exact shape of the position and velocity curves, but, like before, the blocks are roughly in sync with each other, but not exactly. This gives us a better estimate of the average magnitudes that occur, because we have more sample points."
   ]
  },
  {
   "cell_type": "code",
   "execution_count": 143,
   "metadata": {},
   "outputs": [],
   "source": [
    "earthquakeMoments = countQuakes(earthquakePlot, blockNum, timeStepShort)\n",
    "earthquakeMagnitudes = list(map(np.log,earthquakeMoments))\n",
    "# print (earthquakeMoments)"
   ]
  },
  {
   "cell_type": "code",
   "execution_count": 144,
   "metadata": {},
   "outputs": [
    {
     "data": {
      "image/png": "[encoded data removed]",
      "text/plain": [
       "<matplotlib.figure.Figure at 0x2aa1504bb70>"
      ]
     },
     "metadata": {},
     "output_type": "display_data"
    }
   ],
   "source": [
    "plt.plot(earthquakeMagnitudes, \"b o\")\n",
    "plt.title(\"Earthquake Magnitudes\")\n",
    "plt.xlabel(\"Earthquake Number\")\n",
    "plt.ylabel(\"Earthquake Magnitude\")\n",
    "plt.show()"
   ]
  },
  {
   "cell_type": "markdown",
   "metadata": {},
   "source": [
    "This is a plot of the magnitude of each earthquake that occurs above, in the order that they occur. It provides a clearer image of what is happening in the above plots. The magnitude of each earthquake was calculated by taking the logarithm of the distance the plates shifted relative to each other. From this plot, we can see that the earthquakes tend to have a magnitude around zero."
   ]
  },
  {
   "cell_type": "code",
   "execution_count": 145,
   "metadata": {},
   "outputs": [
    {
     "data": {
      "text/plain": [
       "Text(0,0.5,'Occurences')"
      ]
     },
     "execution_count": 145,
     "metadata": {},
     "output_type": "execute_result"
    },
    {
     "data": {
      "image/png": "[encoded data removed]",
      "text/plain": [
       "<matplotlib.figure.Figure at 0x2aacf2d7518>"
      ]
     },
     "metadata": {},
     "output_type": "display_data"
    }
   ],
   "source": [
    "bigMagnitudes, bigOccurences = countMagnitudes (earthquakeMagnitudes)\n",
    "plt.plot(bigMagnitudes, bigOccurences, \"b o\")\n",
    "plt.title(\"Histogram of magnitude occurences\")\n",
    "plt.xlabel(\"Magnitude\")\n",
    "plt.ylabel(\"Occurences\")"
   ]
  },
  {
   "cell_type": "markdown",
   "metadata": {},
   "source": [
    "The above plot is a histogram representing the number of earthquakes that occur within certain magnitude ranges in the given timeframe. From this, we can see that the majority of earthquakes occur around a value of zero."
   ]
  },
  {
   "cell_type": "markdown",
   "metadata": {},
   "source": [
    "## Analysis\n",
    "\n",
    "The first model shows the position and velocity of a system with 25 blocks over a short amount of time (t = 0 to 500). The position shown on the position vs time plot is the relative position of each block to its equilibrium position. The blocks start out approximately one distance unit away from each other, but with a maximum variation of 0.001 distance units. The purpose of this model was to get an idea of the way the blocks move together of a short period of time. From the plots of position and velocity over time, we can see that the blocks roughly move at the same time, and for the same distance, but there is some variation. This is what we expect, because the blocks are connected by strings with a high kc value (250), but the forces on them are slightly different on account of their various positions. In addition, the average distance the blocks move varies from earthquake to earthquake, and so the magnitude of each earthquake is different. This is consistent with what we see in nature.  \n",
    "\n",
    "After this initial model, I repeated the calculation, but at a much larger time frame (t = 0 to 10000) and with 100 blocks instead of 25. The purpose of this was to get an idea of the average magnitude of the earthquakes, and how often larger earthquakes occur. Beneath my position and velocity plots, I included a scatter plot of depicting the magnitudes of all the earthquakes, and a histogram depicting how often earthquakes within specific ranges of magnitudes occur. I calculated the magnitude by taking the logarithm of the distance one sample block travelled. So far, my histogram is inconclusive, because I have not been able to collect data over a large enough time frame."
   ]
  },
  {
   "cell_type": "markdown",
   "metadata": {},
   "source": [
    "## Sources:\n",
    "\n",
    "[1] Giordano N. 1997. Computational Physics. Upper Sadie River, NJ: Pretence-Hall inc. p. 315-328\n",
    "\n",
    "[2] Sammis C, Smith S. 1999. Seismic Cycles and the Evolution of Stress Correlation in Cellular\n",
    "Automaton Models of Finite Fault Networks. Pure and Applied Geophysics. 155(1)"
   ]
  },
  {
   "cell_type": "code",
   "execution_count": 22,
   "metadata": {
    "collapsed": true
   },
   "outputs": [],
   "source": [
    "if __name__ == \"__main__\":\n",
    "    import doctest\n",
    "    doctest.testmod()"
   ]
  }
 ],
 "metadata": {
  "kernelspec": {
   "display_name": "Python 3",
   "language": "python",
   "name": "python3"
  },
  "language_info": {
   "codemirror_mode": {
    "name": "ipython",
    "version": 3
   },
   "file_extension": ".py",
   "mimetype": "text/x-python",
   "name": "python",
   "nbconvert_exporter": "python",
   "pygments_lexer": "ipython3",
   "version": "3.6.3"
  }
 },
 "nbformat": 4,
 "nbformat_minor": 2
}
