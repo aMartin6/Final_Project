{
 "cells": [
  {
   "cell_type": "markdown",
   "metadata": {},
   "source": [
    "# Earthquakes and Self-Organized Criticality"
   ]
  },
  {
   "cell_type": "markdown",
   "metadata": {},
   "source": [
    "* Self organized criticality is the phenomena that places the earth's temperature and density in the region where earthquakes happen. \n",
    "* In this model, friction force decreses as the velocity of the block relative to the bottom plate increses. \n",
    "* Force equations:\n",
    "    * Force on block from neigboring blocks: $F_b = -k_c(x_i - x_{i+1}) - k_c(x_i - x_{i-1})$\n",
    "    * Force of a leaf spring on block: $F_l = -k_p(x_i - v_0 t)$\n",
    "    * Friction force due to bottom plate: $F_f = -\\frac{F_0 sin(v_i)}{1 + |v_i / v_f|}$\n",
    "* Overall equation of motion: $m_i \\frac{d^2 x_i}{dt^2} = k_c(x_{i+1} + x_{i-1} - 2x_i) + k_p(v_0 t - x_i) + F_f$\n",
    "    * If we break this up, we have: $\\frac{dx_i}{dt} = v_i$ and $m_i \\frac{d v_i}{dt} = k_c(x_{i+1} + x_{i-1} - 2x_i) + k_p(v_0 t - x_i) + F_f$"
   ]
  },
  {
   "cell_type": "code",
   "execution_count": 4,
   "metadata": {
    "collapsed": true
   },
   "outputs": [],
   "source": [
    "import pylab as plt\n",
    "import numpy as np\n",
    "import random\n",
    "%matplotlib inline"
   ]
  },
  {
   "cell_type": "code",
   "execution_count": 2,
   "metadata": {
    "collapsed": true
   },
   "outputs": [],
   "source": [
    "def friction (vi, vf, F0):\n",
    "    \"\"\"\n",
    "    Returs the friction of the bottom plate against blocks moving at a specific velocity\n",
    "    \n",
    "    Arguements: vi - initial velovity of the block\n",
    "                vf - final velocity of the block\n",
    "                F0 - the static friction force\n",
    "    \n",
    "    Returned: The force due to friction\n",
    "    \"\"\"\n",
    "    \n",
    "    force = -(F0 * np.sin(vi)) / (1 + abs(vi/vf))\n",
    "    return force"
   ]
  },
  {
   "cell_type": "code",
   "execution_count": 12,
   "metadata": {
    "collapsed": true
   },
   "outputs": [],
   "source": [
    "def blockMotion (t, vi, kp, kc, mass, F0, v0, vf, x, i):\n",
    "    \"\"\"\n",
    "    Returns the differential equation equal to dvi/dt\n",
    "    \n",
    "    Arguements: kp - spring constant of leaf springs\n",
    "                kc - spring constant of springs between blocks\n",
    "                mass - mass of individual block\n",
    "                F0 - the static friction force\n",
    "                v0 - initial velocoty of top plate\n",
    "                vi - the previous velocity of the block\n",
    "                vf - the current velocity of the block\n",
    "                x - the array containting x positions\n",
    "                i - the index of the current block\n",
    "                t - time\n",
    "    \n",
    "    Returned: The differential equation modeling the motion of the individual blocks\n",
    "    \"\"\"\n",
    "    if i == 0:\n",
    "        springForces = kc*(x[i+1] - x[i]) + kp * (v0 * t - x[i])\n",
    "    elif i == len(x):\n",
    "        springForces = kc*(x[i-1] - x[i]) + kp * (v0 * t - x[i])\n",
    "    else:\n",
    "        springForces = kc*(x[i+1] + x[i-1] - 2 * x[i]) + kp * (v0 * t - x[i])\n",
    "    \n",
    "    if springForces < F0:\n",
    "        derivative = 0\n",
    "    else: \n",
    "        if i == 0:\n",
    "            springForces = (kc*(x[i+1] - x[i]) + kp * (v0 * t - x[i]) + friction (vi, vf, F0))\n",
    "        elif i == len(x):\n",
    "            springForces = (kc*(x[i-1] - x[i]) + kp * (v0 * t - x[i]) + friction (vi, vf, F0))\n",
    "        else:\n",
    "            derivative = (kc*(x[i+1] + x[i-1] - 2 * x[i]) + kp * (v0 * t - x[i]) + friction (vi, vf, F0))\n",
    "        \n",
    "    return derivative"
   ]
  },
  {
   "cell_type": "code",
   "execution_count": null,
   "metadata": {
    "collapsed": true
   },
   "outputs": [],
   "source": [
    "def euler (f, y0, interval, steps, *args):\n",
    "    \"\"\" Solve ODE by Euler method with fixed number of steps.\n",
    "\n",
    "    Arguements: f - function giving ODE as y'=f(x,y)\n",
    "                y0 - initial value\n",
    "                interval - tuple region (a,b) on which to solve ODE\n",
    "                steps - number of steps\n",
    "    \n",
    "    Returned: (x,y) points, as (steps+1)x2 numpy array.\n",
    "    \"\"\"\n",
    "    \n",
    "    a, b = interval\n",
    "    h = (b - a) / steps #step size\n",
    "    y = y0\n",
    "    \n",
    "    xPoints = np.arange (a, b, h)\n",
    "    yPoints = []\n",
    "    \n",
    "    for x in xPoints:\n",
    "        yPoints.append (y)\n",
    "        y1 = h * f (y, x, *args)\n",
    "        y += y1\n",
    "            \n",
    "    return xPoints, yPoints"
   ]
  },
  {
   "cell_type": "code",
   "execution_count": 10,
   "metadata": {},
   "outputs": [],
   "source": [
    "N = 25\n",
    "averageSpacing = 1\n",
    "variation = 0.001\n",
    "blockPositions = []\n",
    "\n",
    "for n in range(0,N):\n",
    "    blockPositions.append(n * averageSpacing + (random.random() - 0.5) * 2 * variation)\n",
    "    \n"
   ]
  }
 ],
 "metadata": {
  "kernelspec": {
   "display_name": "Python 3",
   "language": "python",
   "name": "python3"
  },
  "language_info": {
   "codemirror_mode": {
    "name": "ipython",
    "version": 3
   },
   "file_extension": ".py",
   "mimetype": "text/x-python",
   "name": "python",
   "nbconvert_exporter": "python",
   "pygments_lexer": "ipython3",
   "version": "3.4.5"
  }
 },
 "nbformat": 4,
 "nbformat_minor": 2
}
